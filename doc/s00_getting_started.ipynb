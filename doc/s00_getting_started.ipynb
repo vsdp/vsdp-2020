{
 "cells": [
  {
   "cell_type": "markdown",
   "metadata": {},
   "source": [
    "# Getting started\n",
    "\n",
    "Latest version of this manual <https://vsdp.github.io>\n",
    "or <https://vsdp.github.io/vsdp-2020-manual.pdf>.\n",
    "\n",
    "## Abstract\n",
    "\n",
    "**VSDP (Verified SemiDefinite-quadratic-linear Programming)** is a software\n",
    "package for the computation of verified results in conic programming.\n",
    "It supports the constraint cone consisting of the product of semidefinite cones,\n",
    "second-order cones, and the non-negative orthant.\n",
    "VSDP provides functions for computing rigorous error bounds of the true optimal value,\n",
    "verified enclosures of epsilon-optimal  solutions, and verified certificates of infeasibility.\n",
    "All rounding errors due to floating-point arithmetic are taken into account.\n",
    "\n",
    "For theoretical details of the implemented algorithms,\n",
    "we refer to {cite}`Jansson2004,Jansson2007,Jansson2007a,Jansson2009`.\n",
    "\n",
    "The software is completely written in [MATLAB](https://www.mathworks.com) /\n",
    "[GNU Octave](https://octave.org) and requires the interval toolbox\n",
    "[INTLAB](https://www.tuhh.de/ti3/rump/intlab).\n",
    "Thus interval input is supported as well.\n",
    "\n",
    "![VSDP workflow](./res/vsdp_workflow.svg)"
   ]
  },
  {
   "cell_type": "markdown",
   "metadata": {},
   "source": [
    "The latest version of VSDP provides easy access to the\n",
    "[conic solvers](conic_solvers):\n",
    "- [CSDP](https://github.com/coin-or/Csdp),\n",
    "  [GLPK](https://www.gnu.org/software/glpk),\n",
    "  [LINPROG](https://www.mathworks.com/help/optim/ug/linprog.html),\n",
    "  [lp_solve](https://lpsolve.sourceforge.io),\n",
    "  [MOSEK](https://www.mosek.com),\n",
    "  [SDPA](https://sdpa.sourceforge.io),\n",
    "  [SDPT3](https://github.com/sqlp/sdpt3), and\n",
    "  [SeDuMi](https://github.com/sqlp/sedumi)."
   ]
  },
  {
   "cell_type": "markdown",
   "metadata": {},
   "source": [
    "## Available VSDP versions\n",
    "\n",
    "- The VSDP versions numbers reflect the release date:\n",
    "  - [VSDP 2020](https://github.com/vsdp/vsdp-2020)\n",
    "    - Improvements: solver support and detection, workflow, testing, and\n",
    "      documentation.\n",
    "  - [VSDP 2012](https://github.com/vsdp/vsdp-2012)\n",
    "    - Improvements: additional support of second-order cones, linear cones, and\n",
    "      free variables, vectorized internal structure.\n",
    "      See {cite}`Harter2012`.\n",
    "  - [VSDP 2006](https://github.com/vsdp/vsdp-2006)\n",
    "    - Support for large scale semidefinite problems, comprehensible code.\n",
    "      See {cite}`Jansson2006`."
   ]
  },
  {
   "cell_type": "markdown",
   "metadata": {},
   "source": [
    "## Contributors\n",
    "\n",
    "- [Christian Jansson](https://www.tuhh.de/ti3/jansson/)\n",
    "  (<jansson@tuhh.de>)\n",
    "- Marko Lange (<m.lange@tuhh.de>)\n",
    "- Viktor Härter\n",
    "- Kai Torben Ohlhus (<k.ohlhus@gmail.com>)"
   ]
  }
 ],
 "metadata": {
  "kernelspec": {
   "display_name": "Octave",
   "language": "octave",
   "name": "octave"
  },
  "language_info": {
   "file_extension": ".m",
   "help_links": [
    {
     "text": "GNU Octave",
     "url": "https://www.gnu.org/software/octave/support.html"
    },
    {
     "text": "Octave Kernel",
     "url": "https://github.com/Calysto/octave_kernel"
    },
    {
     "text": "MetaKernel Magics",
     "url": "https://metakernel.readthedocs.io/en/latest/source/README.html"
    }
   ],
   "mimetype": "text/x-octave",
   "name": "octave",
   "version": "6.4.0"
  }
 },
 "nbformat": 4,
 "nbformat_minor": 4
}
