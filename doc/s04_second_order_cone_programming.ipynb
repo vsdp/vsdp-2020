{
 "cells": [
  {
   "cell_type": "code",
   "execution_count": null,
   "metadata": {
    "tags": [
     "hide-input",
     "hide-output"
    ]
   },
   "outputs": [],
   "source": [
    "run (fullfile ('..', 'install_vsdp.m'))"
   ]
  },
  {
   "cell_type": "markdown",
   "metadata": {},
   "source": [
    "# Second-order Cone Programming\n",
    "\n",
    "Consider a least squares problem from {cite}`ElGhaoui1997`:\n",
    "\n",
    "$$\n",
    "\\left\\|b_{data} - A_{data}\\,\\hat{y}\\right\\|_2\n",
    "= \\min_{y_{3:5} \\in \\mathbb{R}^{3}}\n",
    "\\left\\|b_{data} - A_{data}\\,y_{3:5}\\right\\|_2\n",
    "$$"
   ]
  },
  {
   "cell_type": "markdown",
   "metadata": {},
   "source": [
    "with a matrix of rank two"
   ]
  },
  {
   "cell_type": "code",
   "execution_count": 2,
   "metadata": {},
   "outputs": [],
   "source": [
    "A_data = [ 3 1 4 ;\n",
    "           0 1 1 ;\n",
    "          -2 5 3 ;\n",
    "           1 4 5 ];"
   ]
  },
  {
   "cell_type": "markdown",
   "metadata": {},
   "source": [
    "and right-hand side"
   ]
  },
  {
   "cell_type": "code",
   "execution_count": 3,
   "metadata": {},
   "outputs": [],
   "source": [
    "b_data = [ 0 ;\n",
    "           2 ;\n",
    "           1 ;\n",
    "           3 ];"
   ]
  },
  {
   "cell_type": "markdown",
   "metadata": {},
   "source": [
    "This problem can be formulated as second-order cone program in dual standard form:"
   ]
  },
  {
   "cell_type": "markdown",
   "metadata": {},
   "source": [
    "$$\n",
    "\\begin{array}{ll}\n",
    "\\text{maximize}   & -y_{1} - y_{2}, \\\\\n",
    "\\text{subject to}\n",
    "& y_{1} \\geq \\| (b_{data} - A_{data}\\,y_{3:5} ) \\|_{2}, \\\\\n",
    "& y_{2} \\geq\n",
    "\\begin{Vmatrix}\\begin{pmatrix} 1 \\\\ y_{3:5} \\end{pmatrix}\\end{Vmatrix}_{2}, \\\\\n",
    "& y \\in \\mathbb{R}^{5}.\n",
    "\\end{array}\n",
    "$$"
   ]
  },
  {
   "cell_type": "markdown",
   "metadata": {},
   "source": [
    "The two inequality constraints can be written as second-order cone vectors"
   ]
  },
  {
   "cell_type": "markdown",
   "metadata": {},
   "source": [
    "$$\n",
    "\\begin{pmatrix} y_{1} \\\\ b_{data} - A_{data}\\,y_{3:5} \\end{pmatrix}\n",
    "\\in \\mathbb{L}^{5} \\quad\\text{and}\\quad\n",
    "\\begin{pmatrix} y_{2} \\\\ 1 \\\\ y_{3:5} \\end{pmatrix} \\in \\mathbb{L}^{5}.\n",
    "$$"
   ]
  },
  {
   "cell_type": "markdown",
   "metadata": {},
   "source": [
    "Both vectors can be expressed as matrix-vector product of $y$"
   ]
  },
  {
   "cell_type": "markdown",
   "metadata": {},
   "source": [
    "$$\n",
    "\\underbrace{\\begin{pmatrix} 0 \\\\ b_{data} \\end{pmatrix}}_{=c_{1}^{q}}\n",
    "- \\underbrace{\\begin{pmatrix}\n",
    "-1 & 0 & 0 & 0 & 0 \\\\\n",
    " 0 & 0 & ( & A_{data} & )\n",
    "\\end{pmatrix}}_{=(A_{1}^{q})^{T}}\n",
    "\\begin{pmatrix} y_{1} \\\\ y_{2} \\\\ y_{3} \\\\ y_{4} \\\\ y_{5} \\end{pmatrix}\n",
    "\\in \\mathbb{L}^{5}\n",
    "$$"
   ]
  },
  {
   "cell_type": "markdown",
   "metadata": {},
   "source": [
    "and"
   ]
  },
  {
   "cell_type": "markdown",
   "metadata": {},
   "source": [
    "$$\n",
    "\\underbrace{\\begin{pmatrix} 0 \\\\ 1 \\\\ 0 \\\\ 0 \\\\ 0 \\end{pmatrix}}_{=c_{2}^{q}}\n",
    "- \\underbrace{\\begin{pmatrix}\n",
    "0 & -1 &  0 &  0 &  0 \\\\\n",
    "0 &  0 &  0 &  0 &  0 \\\\\n",
    "0 &  0 & -1 &  0 &  0 \\\\\n",
    "0 &  0 &  0 & -1 &  0 \\\\\n",
    "0 &  0 &  0 &  0 & -1\n",
    "\\end{pmatrix}}_{=(A_{2}^{q})^{T}}\n",
    "\\begin{pmatrix} y_{1} \\\\ y_{2} \\\\ y_{3} \\\\ y_{4} \\\\ y_{5} \\end{pmatrix}\n",
    "\\in \\mathbb{L}^{5}.\n",
    "$$"
   ]
  },
  {
   "cell_type": "markdown",
   "metadata": {},
   "source": [
    "With these formulations, the dual problem takes the form"
   ]
  },
  {
   "cell_type": "markdown",
   "metadata": {},
   "source": [
    "$$\n",
    "\\begin{array}{ll}\n",
    "\\text{maximize}\n",
    "& \\underbrace{\\begin{pmatrix} -1 & -1 & 0 & 0 & 0 \\end{pmatrix}}_{=b^{T}} y, \\\\\n",
    "\\text{subject to}\n",
    "& z = \\underbrace{\\begin{pmatrix}\n",
    "                  0 \\\\ b_{data} \\\\ 0 \\\\ 1 \\\\ 0 \\\\ 0 \\\\ 0\n",
    "                  \\end{pmatrix}}_{=c}\n",
    "    - \\underbrace{\\begin{pmatrix}\n",
    "                  -1 &  0 &  0 &  0 &  0 \\\\\n",
    "                   0 &  0 &  ( & A_{data} & ) \\\\\n",
    "                   0 & -1 &  0 &  0 &  0 \\\\\n",
    "                   0 &  0 &  0 &  0 &  0 \\\\\n",
    "                   0 &  0 & -1 &  0 &  0 \\\\\n",
    "                   0 &  0 &  0 & -1 &  0 \\\\\n",
    "                   0 &  0 &  0 &  0 & -1\n",
    "                  \\end{pmatrix}}_{=A^{T}} y \\in K^{*}, \\\\\n",
    "& y \\in \\mathbb{R}^{5}.\n",
    "\\end{array}\n",
    "$$"
   ]
  },
  {
   "cell_type": "markdown",
   "metadata": {},
   "source": [
    "where $K^{*} = \\mathbb{L}^{5} \\times \\mathbb{L}^{5}$.\n",
    "\n",
    "We want to solve this problem with SeDuMi and enter the problem data of the primal problem."
   ]
  },
  {
   "cell_type": "code",
   "execution_count": 4,
   "metadata": {},
   "outputs": [],
   "source": [
    "At = zeros (10, 5);\n",
    "At(1,1) = -1;\n",
    "At(2:5, 3:5)  = A_data;\n",
    "At(6,2) = -1;\n",
    "At(8:10, 3:5) = -eye(3);\n",
    "b = [-1 -1 0 0 0]';\n",
    "c = [ 0 b_data' 0 0 0 0 0]';"
   ]
  },
  {
   "cell_type": "markdown",
   "metadata": {},
   "source": [
    "Apart from the data `(At,b,c)`,\n",
    "the vector `q = [5;5]` of the second-order cone block sizes\n",
    "must be forwarded to the structure `K`:"
   ]
  },
  {
   "cell_type": "code",
   "execution_count": 5,
   "metadata": {},
   "outputs": [],
   "source": [
    "K.q = [5; 5];"
   ]
  },
  {
   "cell_type": "markdown",
   "metadata": {},
   "source": [
    "Now we compute approximate solutions by using `obj.solve`\n",
    "and then rigorous error bounds by using `obj.rigorous_lower_bound`\n",
    "and `obj.rigorous_upper_bound`:"
   ]
  },
  {
   "cell_type": "code",
   "execution_count": 6,
   "metadata": {},
   "outputs": [],
   "source": [
    "obj = vsdp (At, b, c, K);\n",
    "obj.options.VERBOSE_OUTPUT = false;\n",
    "obj.solve('sedumi') ...\n",
    "   .rigorous_lower_bound() ...\n",
    "   .rigorous_upper_bound();"
   ]
  },
  {
   "cell_type": "markdown",
   "metadata": {},
   "source": [
    "Finally, we get an overview about all the performed computations:"
   ]
  },
  {
   "cell_type": "code",
   "execution_count": 7,
   "metadata": {},
   "outputs": [
    {
     "name": "stdout",
     "output_type": "stream",
     "text": [
      "obj =\n",
      "  VSDP conic programming problem with dimensions:\n",
      "\n",
      "    [n,m] = size(obj.At)\n",
      "     n    = 10 variables\n",
      "       m  =  5 constraints\n",
      "\n",
      "  and cones:\n",
      "\n",
      "     K.q = [ 5, 5 ]\n",
      "\n",
      "  obj.solutions.approximate:\n",
      "\n",
      "      Solver 'sedumi': Normal termination, 0.2 seconds.\n",
      "\n",
      "        c'*x = -2.592163303832843e+00\n",
      "        b'*y = -2.592163302997335e+00\n",
      "\n",
      "\n",
      "  obj.solutions.rigorous_lower_bound:\n",
      "\n",
      "      Solver 'sedumi': Normal termination, 0.2 seconds, 1 iterations.\n",
      "\n",
      "          fL = -2.592163303541427e+00\n",
      "\n",
      "  obj.solutions.rigorous_upper_bound:\n",
      "\n",
      "      Solver 'sedumi': Normal termination, 0.3 seconds, 1 iterations.\n",
      "\n",
      "          fU = -2.592163296674677e+00\n",
      "\n",
      "\n",
      "\n",
      "  Detailed information:  'obj.info()'\n",
      "\n",
      "\n"
     ]
    }
   ],
   "source": [
    "obj"
   ]
  },
  {
   "cell_type": "markdown",
   "metadata": {},
   "source": [
    "Now we analyze the resulting regularized least squares solution"
   ]
  },
  {
   "cell_type": "code",
   "execution_count": 8,
   "metadata": {},
   "outputs": [
    {
     "name": "stdout",
     "output_type": "stream",
     "text": [
      "y_SOCP =\n",
      "  -0.022817\n",
      "   0.218532\n",
      "   0.195715\n",
      "\n"
     ]
    }
   ],
   "source": [
    "y_SOCP = obj.solutions.approximate.y(3:5)"
   ]
  },
  {
   "cell_type": "markdown",
   "metadata": {},
   "source": [
    "and compare it to a naive least squares solution `y_LS`,\n",
    "which takes extreme values in this example"
   ]
  },
  {
   "cell_type": "code",
   "execution_count": 9,
   "metadata": {},
   "outputs": [
    {
     "name": "stdout",
     "output_type": "stream",
     "text": [
      "y_LS =\n",
      "   8.0353e+14\n",
      "   8.0353e+14\n",
      "  -8.0353e+14\n",
      "\n"
     ]
    }
   ],
   "source": [
    "y_LS = A_data \\ b_data"
   ]
  },
  {
   "cell_type": "markdown",
   "metadata": {},
   "source": [
    "Displaying the norms of the results side-by-side reveals,\n",
    "that `y_SOCP` is better suited for numerical computations."
   ]
  },
  {
   "cell_type": "code",
   "execution_count": 10,
   "metadata": {},
   "outputs": [
    {
     "name": "stdout",
     "output_type": "stream",
     "text": [
      "ans =\n",
      "   2.9425e-01   1.3918e+15\n",
      "   2.2979e+00   2.5125e+00\n",
      "\n"
     ]
    }
   ],
   "source": [
    "[                  norm(y_SOCP)                    norm(y_LS);\n",
    " norm(b_data - A_data * y_SOCP)  norm(b_data - A_data * y_LS)]"
   ]
  },
  {
   "cell_type": "markdown",
   "metadata": {},
   "source": [
    "Conic programming allows to mix constraints of different types.\n",
    "For instance, one can add the linear inequality\n",
    "$\\sum_{i=1}^{5} y_{i} \\leq 3.5$ to the previous dual problem.\n",
    "We extend the input data as follows:"
   ]
  },
  {
   "cell_type": "code",
   "execution_count": 11,
   "metadata": {},
   "outputs": [],
   "source": [
    "At = [1 1 1 1 1; At];\n",
    "c =  [3.5      ; c ];\n",
    "K.l = 1;"
   ]
  },
  {
   "cell_type": "markdown",
   "metadata": {},
   "source": [
    "Remember that the order of the cone variables matters for `At` and `c`."
   ]
  },
  {
   "cell_type": "code",
   "execution_count": 12,
   "metadata": {},
   "outputs": [],
   "source": [
    "obj = vsdp (At, b, c, K);\n",
    "obj.options.VERBOSE_OUTPUT = false;\n",
    "obj.solve('sedumi') ...\n",
    "   .rigorous_lower_bound() ...\n",
    "   .rigorous_upper_bound();"
   ]
  },
  {
   "cell_type": "markdown",
   "metadata": {},
   "source": [
    "Finally, one obtains:"
   ]
  },
  {
   "cell_type": "code",
   "execution_count": 13,
   "metadata": {},
   "outputs": [
    {
     "name": "stdout",
     "output_type": "stream",
     "text": [
      "obj =\n",
      "  VSDP conic programming problem with dimensions:\n",
      "\n",
      "    [n,m] = size(obj.At)\n",
      "     n    = 11 variables\n",
      "       m  =  5 constraints\n",
      "\n",
      "  and cones:\n",
      "\n",
      "     K.l = 1\n",
      "     K.q = [ 5, 5 ]\n",
      "\n",
      "  obj.solutions.approximate:\n",
      "\n",
      "      Solver 'sedumi': Normal termination, 0.3 seconds.\n",
      "\n",
      "        c'*x = -2.592163292348387e+00\n",
      "        b'*y = -2.592163288374707e+00\n",
      "\n",
      "\n",
      "  obj.solutions.rigorous_lower_bound:\n",
      "\n",
      "      Solver 'sedumi': Normal termination, 0.3 seconds, 1 iterations.\n",
      "\n",
      "          fL = -2.592163308023824e+00\n",
      "\n",
      "  obj.solutions.rigorous_upper_bound:\n",
      "\n",
      "      Normal termination, 0.0 seconds, 0 iterations.\n",
      "\n",
      "          fU = -2.592163292358022e+00\n",
      "\n",
      "\n",
      "\n",
      "  Detailed information:  'obj.info()'\n",
      "\n",
      "\n"
     ]
    }
   ],
   "source": [
    "obj"
   ]
  }
 ],
 "metadata": {
  "kernelspec": {
   "display_name": "Octave",
   "language": "octave",
   "name": "octave"
  },
  "language_info": {
   "file_extension": ".m",
   "help_links": [
    {
     "text": "GNU Octave",
     "url": "https://www.gnu.org/software/octave/support.html"
    },
    {
     "text": "Octave Kernel",
     "url": "https://github.com/Calysto/octave_kernel"
    },
    {
     "text": "MetaKernel Magics",
     "url": "https://metakernel.readthedocs.io/en/latest/source/README.html"
    }
   ],
   "mimetype": "text/x-octave",
   "name": "octave",
   "version": "6.4.0"
  }
 },
 "nbformat": 4,
 "nbformat_minor": 4
}
