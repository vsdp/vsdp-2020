{
 "cells": [
  {
   "cell_type": "markdown",
   "metadata": {},
   "source": [
    "# Conic solvers\n",
    "\n",
    "In this section we provide some notes about our usage experience with VSDP\n",
    "and the following approximate conic solvers.\n",
    "\n",
    "For our tests we tried the following four combinations to run the conic solver:\n",
    "\n",
    "```\n",
    "+---------------------------+\n",
    "|      <conic solver>       |\n",
    "+---------------------------+\n",
    "|       VSDP & INTLAB       |\n",
    "+------------+--------------+\n",
    "|   MATLAB   |  GNU Octave  |\n",
    "+------------+--------------+\n",
    "```"
   ]
  },
  {
   "cell_type": "markdown",
   "metadata": {},
   "source": [
    "## CSDP\n",
    "\n",
    "- Website: <https://github.com/coin-or/Csdp>\n",
    "- Documentation: <https://github.com/coin-or/Csdp/blob/master/doc/csdpuser.pdf>\n",
    "- *Cones*: (Free variables), LP, SDP\n",
    "- *Installation*: Binary distributions for Windows and Linux on the website.\n",
    "  Extract binary distribution to arbitrary location and use `addpath` within\n",
    "  Octave or MATLAB to add the `bin` (solver executables) and `matlab`\n",
    "  (interface routines) subdirectories.\n",
    "- *Invocation*: Call `csdp` from the Octave or MATLAB command prompt.\n",
    "- *Notes*: Free variables are only supported as difference of LP variables.\n",
    "  The resulting problem is ill-posed."
   ]
  },
  {
   "cell_type": "markdown",
   "metadata": {},
   "source": [
    "## GLPK\n",
    "\n",
    "- Website: <https://www.gnu.org/software/glpk>\n",
    "- Documentation: Part of the source code archive available from the website.\n",
    "- *Cones*: Free variables, LP\n",
    "- *Installation*: Built-in solver of GNU Octave.\n",
    "- *Invocation*: Call `glpk` from the Octave command prompt.\n",
    "- *Notes*: Not available for MATLAB."
   ]
  },
  {
   "cell_type": "markdown",
   "metadata": {},
   "source": [
    "## LINPROG\n",
    "\n",
    "- Website: <https://www.mathworks.com/help/optim/ug/linprog.html>\n",
    "- Documentation: See website.\n",
    "- *Cones*: Free variables, LP\n",
    "- *Installation*: Built-in solver of MATLAB.\n",
    "- *Invocation*: Call `linprog` from the MATLAB command prompt.\n",
    "- *Notes*: Not available for GNU Octave."
   ]
  },
  {
   "cell_type": "markdown",
   "metadata": {},
   "source": [
    "## lp_solve\n",
    "\n",
    "- Website: <http://lpsolve.sourceforge.net/5.5/index.htm>\n",
    "- Documentation: See website.\n",
    "- *Cones*: Free variables, LP\n",
    "- *Installation*: Binary distributions for Windows and Linux are available\n",
    "  from <https://sourceforge.net/projects/lpsolve/files/lpsolve/5.5.2.5>.\n",
    "  For Linux it is easier to install the binary solver files from the\n",
    "  respective distribution package manager.  The Octave and MATLAB interface\n",
    "  is available from <https://github.com/vsdp/lp_solve> or\n",
    "  <https://sourceforge.net/projects/lpsolve/files/lpsolve/5.5.2.5>.\n",
    "  Inside the `extra/octave/lpsolve` or `extra/matlab/lpsolve` subdirectory\n",
    "  one has to follow the build instructions and has to use `addpath` within\n",
    "  Octave or MATLAB to make it work.\n",
    "- *Invocation*: Call `lp_solve` from the Octave or MATLAB command prompt."
   ]
  },
  {
   "cell_type": "markdown",
   "metadata": {},
   "source": [
    "## MOSEK\n",
    "\n",
    "- Website: <https://www.mosek.com/>\n",
    "- Documentation: <https://www.mosek.com/documentation/>\n",
    "- *Cones*: Free variables, LP, SOCP, SDP\n",
    "- *Installation*: Binary distributions for Windows and Linux on the website.\n",
    "  Very good description is given at\n",
    "  <https://docs.mosek.com/8.1/install/installation.html>\n",
    "- *Invocation*: Call `mosekopt` from the Octave or MATLAB command prompt.\n",
    "- *Notes*: One has to obtain a *license*, which is gratis for personal and academic use.\n",
    "  *No Octave.*  There is some no longer maintained\n",
    "  [octmosek](https://github.com/MOSEK/octmosek) Octave package,\n",
    "  that does notes work for recent Octave versions."
   ]
  },
  {
   "cell_type": "markdown",
   "metadata": {},
   "source": [
    "## SDPA\n",
    "\n",
    "- Website: <http://sdpa.sourceforge.net>\n",
    "- GitHub: <https://github.com/vsdp/sdpa>\n",
    "- Documentation:\n",
    "  <https://sourceforge.net/projects/sdpa/files/sdpa/sdpa.7.1.1.manual.20080618.pdf>\n",
    "- Cones: LP, SDP\n",
    "- Installation (Windows): Binary distributions can be obtained from\n",
    "  <http://sdpa.sourceforge.net/download.html> (use the *SDPA-M* version).\n",
    "  Extract binary distribution to arbitrary location and use `addpath` within\n",
    "  MATLAB to add the solver and interface routines.\n",
    "- *Invocation*: Call `mexsdpa` from the Octave or MATLAB command prompt.\n",
    "- *Notes*: The \"native\" installation for Windows and MATLAB is the most reliable.\n",
    "  The other three combinations worked partially or not at all.\n",
    "  Some of the Linux efforts are reflected in the GitHub repository."
   ]
  },
  {
   "cell_type": "markdown",
   "metadata": {},
   "source": [
    "## SDPT3\n",
    "\n",
    "- Website: <https://blog.nus.edu.sg/mattohkc/softwares/sdpt3/>\n",
    "- GitHub: <https://github.com/sqlp/sdpt3> (preferred) or\n",
    "  <https://github.com/Kim-ChuanToh/SDPT3>\n",
    "- Documentation: <https://blog.nus.edu.sg/mattohkc/files/2019/10/guide4-0-draft.pdf>\n",
    "- Cones: Free variables, LP, SOCP, SDP\n",
    "- Installation: Download the files from the preferred GitHub repository\n",
    "  extracted to an arbitrary location and run `install_sdpt3` from the Octave\n",
    "  or MATLAB command prompt.\n",
    "- Invocation: Call `sqlp` from the Octave or MATLAB command prompt.\n",
    "- Notes: In case of errors with the MEX-Interface,\n",
    "  run `install_sdpt3 -rebuild` from the Octave or MATLAB command prompt.\n",
    "  The SDPT3 function `randmat` is in conflict with the INTLAB function `randmat`.\n",
    "  To resolve that conflict, we chose to rename the INTLAB function."
   ]
  },
  {
   "cell_type": "markdown",
   "metadata": {},
   "source": [
    "## SeDuMi\n",
    "\n",
    "- Website: <http://sedumi.ie.lehigh.edu>\n",
    "- GitHub: <https://github.com/sqlp/sedumi> (preferred)\n",
    "- Documentation:\n",
    "  <http://sedumi.ie.lehigh.edu/sedumi/files/sedumi-downloads/SeDuMi_Guide_11.pdf>\n",
    "  and <http://sedumi.ie.lehigh.edu/sedumi/files/sedumi-downloads/usrguide.ps>\n",
    "- Cones: Free variables, LP, SOCP, SDP\n",
    "- Installation: Download the files from the preferred GitHub repository\n",
    "  extracted to an arbitrary location and run `install_sedumi` from the Octave\n",
    "  or MATLAB command prompt.\n",
    "- Invocation: Call `sedumi` from the Octave or MATLAB command prompt.\n",
    "- Notes: In case of errors with the MEX-Interface,\n",
    "  run `install_sedumi -rebuild` from the Octave or MATLAB command prompt."
   ]
  }
 ],
 "metadata": {
  "kernelspec": {
   "display_name": "Octave",
   "language": "octave",
   "name": "octave"
  },
  "language_info": {
   "file_extension": ".m",
   "help_links": [
    {
     "text": "GNU Octave",
     "url": "https://www.gnu.org/software/octave/support.html"
    },
    {
     "text": "Octave Kernel",
     "url": "https://github.com/Calysto/octave_kernel"
    },
    {
     "text": "MetaKernel Magics",
     "url": "https://metakernel.readthedocs.io/en/latest/source/README.html"
    }
   ],
   "mimetype": "text/x-octave",
   "name": "octave",
   "version": "6.4.0"
  }
 },
 "nbformat": 4,
 "nbformat_minor": 4
}
