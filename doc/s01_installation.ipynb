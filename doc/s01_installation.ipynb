{
 "cells": [
  {
   "cell_type": "code",
   "execution_count": null,
   "metadata": {
    "tags": [
     "hide-input",
     "hide-output"
    ]
   },
   "outputs": [],
   "source": [
    "run (fullfile ('..', 'install_vsdp.m'))"
   ]
  },
  {
   "cell_type": "markdown",
   "metadata": {},
   "source": [
    "# Installation\n",
    "\n",
    "## Requirements\n",
    "\n",
    "To run VSDP, the following requirements have to be fulfilled:\n",
    "\n",
    "- A recent version of [GNU Octave](https://www.octave.org) or\n",
    "  [MATLAB](https://www.mathworks.com/products/matlab) has to be installed.\n",
    "- The interval toolbox [INTLAB](https://www.tuhh.de/ti3/rump/intlab) is required.\n",
    "- At least one of the following approximate solvers has to be installed:\n",
    "    - [CSDP](https://github.com/coin-or/Csdp),\n",
    "    - [GLPK](https://www.gnu.org/software/glpk),\n",
    "    - [LINPROG](https://www.mathworks.com/help/optim/ug/linprog.html),\n",
    "    - [lp_solve](https://lpsolve.sourceforge.io),\n",
    "    - [MOSEK](https://www.mosek.com),\n",
    "    - [SDPA](https://sdpa.sourceforge.io),\n",
    "    - [SDPT3](https://github.com/sqlp/sdpt3), or\n",
    "    - [SeDuMi](https://github.com/sqlp/sedumi)."
   ]
  },
  {
   "cell_type": "markdown",
   "metadata": {},
   "source": [
    "## Obtaining VSDP\n",
    "\n",
    "### ZIP-File\n",
    "\n",
    "The most recent version of VSDP and this manual are available at <https://vsdp.github.io>.\n",
    "There you can download a ZIP-file\n",
    "[`vsdp-2020-master.zip`](https://github.com/vsdp/vsdp-2020/archive/refs/heads/master.zip)\n",
    "and extract it to an arbitrary location.\n",
    "\n",
    "Legacy versions of VSDP are available from\n",
    "<http://www.ti3.tu-harburg.de/jansson/vsdp/>.\n",
    "\n",
    "### Using git\n",
    "\n",
    "If you have [git](https://git-scm.com/) installed and about 700 MB of disk\n",
    "space available, you can easily obtain a full bundle of VSDP 2006, 2012, 2020,\n",
    "including some aforementioned approximate solvers, and some benchmark\n",
    "libraries by the command\n",
    "\n",
    "```\n",
    "git clone --recurse-submodules https://github.com/vsdp/vsdp-bundle\n",
    "```\n",
    "\n",
    "In the cloned directory `vsdp-bundle/vsdp/2020` you find the latest version of VSDP."
   ]
  },
  {
   "cell_type": "markdown",
   "metadata": {},
   "source": [
    "## Installing VSDP\n",
    "\n",
    "If all requirements are fulfilled, just call from the MATLAB or GNU Octave\n",
    "command prompt inside the VSDP directory\n",
    "\n",
    "```\n",
    "install_vsdp;\n",
    "```\n",
    "\n",
    "and all necessary paths are set and VSDP is fully functional.\n",
    "To test the latter, you can run the small builtin test suite from MATLAB via\n",
    "\n",
    "```\n",
    "runtests ('testVSDP')\n",
    "\n",
    "  Totals:\n",
    "    5 Passed, 0 Failed, 0 Incomplete.\n",
    "    8.2712 seconds testing time.\n",
    "```\n",
    "\n",
    "or from GNU Octave via"
   ]
  },
  {
   "cell_type": "code",
   "execution_count": 2,
   "metadata": {},
   "outputs": [
    {
     "name": "stdout",
     "output_type": "stream",
     "text": [
      "Test summary\n",
      "------------\n",
      " \n",
      "testSINDEX   \tPASSED\t0.322136\n",
      "testSVEC_SMAT\tPASSED\t0.549652\n",
      "testLP       \tPASSED\t3.108967\n",
      "testSOCP     \tPASSED\t2.231160\n",
      "testSDP      \tPASSED\t16.238318\n"
     ]
    }
   ],
   "source": [
    "testVSDP;"
   ]
  }
 ],
 "metadata": {
  "kernelspec": {
   "display_name": "Octave",
   "language": "octave",
   "name": "octave"
  },
  "language_info": {
   "file_extension": ".m",
   "help_links": [
    {
     "text": "GNU Octave",
     "url": "https://www.gnu.org/software/octave/support.html"
    },
    {
     "text": "Octave Kernel",
     "url": "https://github.com/Calysto/octave_kernel"
    },
    {
     "text": "MetaKernel Magics",
     "url": "https://metakernel.readthedocs.io/en/latest/source/README.html"
    }
   ],
   "mimetype": "text/x-octave",
   "name": "octave",
   "version": "6.4.0"
  }
 },
 "nbformat": 4,
 "nbformat_minor": 4
}
