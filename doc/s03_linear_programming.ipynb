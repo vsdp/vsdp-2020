{
 "cells": [
  {
   "cell_type": "code",
   "execution_count": null,
   "metadata": {
    "tags": [
     "hide-input",
     "hide-output"
    ]
   },
   "outputs": [],
   "source": [
    "run (fullfile ('..', 'install_vsdp.m'))"
   ]
  },
  {
   "cell_type": "markdown",
   "metadata": {},
   "source": [
    "# Linear Programming\n",
    "\n",
    "In this section we describe how linear programming problems can be solved with VSDP.\n",
    "In particular, two linear programs are considered in detail."
   ]
  },
  {
   "cell_type": "markdown",
   "metadata": {},
   "source": [
    "## First example\n",
    "\n",
    "Consider the linear program in primal standard form"
   ]
  },
  {
   "cell_type": "markdown",
   "metadata": {},
   "source": [
    "$$\n",
    "\\begin{array}{ll}\n",
    "\\text{minimize}   & 2x_{2} + 3x_{4} + 5x_{5}, \\\\\n",
    "\\text{subject to} &\n",
    "\\begin{pmatrix}\n",
    "-1 & 2 &  0 & 1 & 1 \\\\\n",
    " 0 & 0 & -1 & 0 & 2\n",
    "\\end{pmatrix} x = \\begin{pmatrix} 2 \\\\ 3 \\end{pmatrix}, \\\\\n",
    "& x \\in \\mathbb{R}^{5}_{+},\n",
    "\\end{array}\n",
    "$$"
   ]
  },
  {
   "cell_type": "markdown",
   "metadata": {},
   "source": [
    "with its corresponding dual problem"
   ]
  },
  {
   "cell_type": "markdown",
   "metadata": {},
   "source": [
    "$$\n",
    "\\begin{array}{ll}\n",
    "\\text{maximize}   & 2 y_{1} + 3 y_{2}, \\\\\n",
    "\\text{subject to} &\n",
    "z = \\begin{pmatrix} 0 \\\\ 2 \\\\ 0 \\\\ 3 \\\\ 5 \\end{pmatrix} -\n",
    "\\begin{pmatrix}\n",
    "-1 &  0 \\\\\n",
    " 2 &  0 \\\\\n",
    " 0 & -1 \\\\\n",
    " 1 &  0 \\\\\n",
    " 1 &  2\n",
    "\\end{pmatrix} y \\in \\mathbb{R}^{5}_{+}.\n",
    "\\end{array}\n",
    "$$"
   ]
  },
  {
   "cell_type": "markdown",
   "metadata": {},
   "source": [
    "The unique exact optimal solution is given by\n",
    "$x^{*} = (0, 0.25, 0, 0, 1.5)^{T}$,\n",
    "$y^{*} = (1, 2)^{T}$\n",
    "with $\\hat{f}_{p} = \\hat{f}_{d} = 8$."
   ]
  },
  {
   "cell_type": "markdown",
   "metadata": {},
   "source": [
    "The input data of the problem in VSDP are:"
   ]
  },
  {
   "cell_type": "code",
   "execution_count": 2,
   "metadata": {},
   "outputs": [],
   "source": [
    "A = [-1, 2,  0, 1, 1;\n",
    "      0, 0, -1, 0, 2];\n",
    "b = [2; 3];\n",
    "c = [0; 2; 0; 3; 5];\n",
    "K.l = 5;"
   ]
  },
  {
   "cell_type": "markdown",
   "metadata": {},
   "source": [
    "To create a VSDP object of the linear program data above,\n",
    "we call the VSDP class constructor\n",
    "and do not suppress the output by terminating the statement with a semicolon `;`."
   ]
  },
  {
   "cell_type": "code",
   "execution_count": 3,
   "metadata": {},
   "outputs": [
    {
     "name": "stdout",
     "output_type": "stream",
     "text": [
      "obj =\n",
      "  VSDP conic programming problem with dimensions:\n",
      "\n",
      "    [n,m] = size(obj.At)\n",
      "     n    = 5 variables\n",
      "       m  = 2 constraints\n",
      "\n",
      "  and cones:\n",
      "\n",
      "     K.l = 5\n",
      "\n",
      "  Compute an approximate solution:\n",
      "\n",
      "    'obj = obj.solve()'\n",
      "\n",
      "\n",
      "  Detailed information:  'obj.info()'\n",
      "\n",
      "\n"
     ]
    }
   ],
   "source": [
    "obj = vsdp (A, b, c, K)"
   ]
  },
  {
   "cell_type": "markdown",
   "metadata": {},
   "source": [
    "The output contains all relevant information about the conic problem\n",
    "and includes the command `obj.solve` to proceed.\n",
    "\n",
    "By calling the `obj.solve` method on the VSDP object `obj`,\n",
    "we can compute an approximate solution `x`, `y`, and `z`,\n",
    "for example by using SDPT3.\n",
    "When calling `obj.solve` without any arguments,\n",
    "the user is asked to choose one of the supported solvers."
   ]
  },
  {
   "cell_type": "code",
   "execution_count": 4,
   "metadata": {},
   "outputs": [
    {
     "name": "stdout",
     "output_type": "stream",
     "text": []
    },
    {
     "name": "stdout",
     "output_type": "stream",
     "text": [
      "\n",
      " num. of constraints =  2\n",
      " dim. of linear var  =  5\n",
      "*******************************************************************\n",
      "   SDPT3: Infeasible path-following algorithms\n",
      "*******************************************************************\n",
      " version  predcorr  gam  expon  scale_data\n",
      "    NT      1      0.000   1        0    \n",
      "it pstep dstep pinfeas dinfeas  gap      prim-obj      dual-obj    cputime\n",
      "-------------------------------------------------------------------\n",
      " 0|0.000|0.000|6.3e+00|2.6e+00|5.0e+02| 1.000000e+02  0.000000e+00| 0:0:00| chol  1  1 \n",
      " 1|1.000|0.867|9.5e-07|3.7e-01|8.7e+01| 4.535853e+01  2.191628e+00| 0:0:00| chol  1  1 \n",
      " 2|1.000|1.000|1.9e-06|3.1e-03|1.1e+01| 1.670044e+01  5.453562e+00| 0:0:00| chol  1  1 \n",
      " 3|0.928|1.000|1.6e-07|3.1e-04|1.1e+00| 8.503754e+00  7.407909e+00| 0:0:00| chol  1  1 \n",
      " 4|1.000|0.591|1.0e-07|1.5e-04|7.9e-01| 8.626424e+00  7.841794e+00| 0:0:00| chol  1  1 \n",
      " 5|0.971|0.984|3.0e-09|5.4e-06|2.2e-02| 8.015560e+00  7.993623e+00| 0:0:00| chol  1  1 \n",
      " 6|0.988|0.988|7.1e-10|3.7e-07|2.6e-04| 8.000185e+00  7.999926e+00| 0:0:00| chol  1  1 \n",
      " 7|0.989|0.989|1.1e-10|4.3e-09|2.9e-06| 8.000002e+00  7.999999e+00| 0:0:00| chol  1  1 \n",
      " 8|0.997|1.000|9.4e-13|2.2e-11|3.9e-08| 8.000000e+00  8.000000e+00| 0:0:00|\n",
      "  stop: max(relative gap, infeasibilities) < 1.00e-08\n",
      "-------------------------------------------------------------------\n",
      " number of iterations   =  8\n",
      " primal objective value =  8.00000003e+00\n",
      " dual   objective value =  7.99999999e+00\n",
      " gap := trace(XZ)       = 3.88e-08\n",
      " relative gap           = 2.28e-09\n",
      " actual relative gap    = 2.27e-09\n",
      " rel. primal infeas (scaled problem)   = 9.39e-13\n",
      " rel. dual     \"        \"       \"      = 2.19e-11\n",
      " rel. primal infeas (unscaled problem) = 0.00e+00\n",
      " rel. dual     \"        \"       \"      = 0.00e+00\n",
      " norm(X), norm(y), norm(Z) = 1.5e+00, 2.2e+00, 3.0e+00\n",
      " norm(A), norm(b), norm(C) = 4.5e+00, 4.6e+00, 7.2e+00\n",
      " Total CPU time (secs)  = 0.21  \n",
      " CPU time per iteration = 0.03  \n",
      " termination code       =  0\n",
      " DIMACS: 1.1e-12  0.0e+00  2.6e-11  0.0e+00  2.3e-09  2.3e-09\n",
      "-------------------------------------------------------------------\n"
     ]
    }
   ],
   "source": [
    "obj.solve ('sdpt3');"
   ]
  },
  {
   "cell_type": "markdown",
   "metadata": {},
   "source": [
    "The solver output is often quite verbose.\n",
    "Especially for large problems it is recommended to display the solver progress.\n",
    "To suppress solver messages,\n",
    "the following option can be set:"
   ]
  },
  {
   "cell_type": "code",
   "execution_count": 5,
   "metadata": {},
   "outputs": [],
   "source": [
    "obj.options.VERBOSE_OUTPUT = false;"
   ]
  },
  {
   "cell_type": "markdown",
   "metadata": {},
   "source": [
    "To permanently assign an approximate solver to a VSDP object,\n",
    "use the following option:"
   ]
  },
  {
   "cell_type": "code",
   "execution_count": 6,
   "metadata": {},
   "outputs": [],
   "source": [
    "obj.options.SOLVER = 'sdpt3';"
   ]
  },
  {
   "cell_type": "markdown",
   "metadata": {},
   "source": [
    "By simply typing the VSDP object's name, the user gets a short summary of the solution state."
   ]
  },
  {
   "cell_type": "code",
   "execution_count": 7,
   "metadata": {},
   "outputs": [
    {
     "name": "stdout",
     "output_type": "stream",
     "text": [
      "obj =\n",
      "  VSDP conic programming problem with dimensions:\n",
      "\n",
      "    [n,m] = size(obj.At)\n",
      "     n    = 5 variables\n",
      "       m  = 2 constraints\n",
      "\n",
      "  and cones:\n",
      "\n",
      "     K.l = 5\n",
      "\n",
      "  obj.solutions.approximate:\n",
      "\n",
      "      Solver 'sdpt3': Normal termination, 0.3 seconds.\n",
      "\n",
      "        c'*x = 8.000000025993693e+00\n",
      "        b'*y = 7.999999987362061e+00\n",
      "\n",
      "\n",
      "  Compute a rigorous lower bound:\n",
      "\n",
      "    'obj = obj.rigorous_lower_bound()'\n",
      "\n",
      "  Compute a rigorous upper bound:\n",
      "\n",
      "    'obj = obj.rigorous_upper_bound()'\n",
      "\n",
      "\n",
      "  Detailed information:  'obj.info()'\n",
      "\n",
      "\n"
     ]
    }
   ],
   "source": [
    "obj"
   ]
  },
  {
   "cell_type": "markdown",
   "metadata": {},
   "source": [
    "On success,\n",
    "one can obtain the approximate solutions for further processing."
   ]
  },
  {
   "cell_type": "code",
   "execution_count": 8,
   "metadata": {},
   "outputs": [
    {
     "name": "stdout",
     "output_type": "stream",
     "text": [
      "x =\n",
      "   0.0000000092324\n",
      "   0.2500000014452\n",
      "   0.0000000040905\n",
      "   0.0000000042923\n",
      "   1.5000000020453\n",
      "\n",
      "y =\n",
      "   1.00000\n",
      "   2.00000\n",
      "\n"
     ]
    }
   ],
   "source": [
    "format short\n",
    "x = obj.solutions.approximate.x\n",
    "y = obj.solutions.approximate.y"
   ]
  },
  {
   "cell_type": "markdown",
   "metadata": {},
   "source": [
    "The approximate solution is close to the optimal solution\n",
    "$x^{*} = (0, 0.25, 0, 0, 1.5)^{T}$, $y^{*} = (1, 2)^{T}$.\n",
    "\n",
    "With this approximate solution, a rigorous lower bound `fL`\n",
    "of the primal optimal value $\\hat{f}_{p} = 8$ can be computed by calling:"
   ]
  },
  {
   "cell_type": "code",
   "execution_count": 9,
   "metadata": {},
   "outputs": [
    {
     "name": "stdout",
     "output_type": "stream",
     "text": [
      "fL =  7.999999987362061\n"
     ]
    }
   ],
   "source": [
    "format long\n",
    "obj.rigorous_lower_bound ();\n",
    "fL = obj.solutions.rigorous_lower_bound.f_objective(1)"
   ]
  },
  {
   "cell_type": "markdown",
   "metadata": {},
   "source": [
    "Similarly,\n",
    "a rigorous upper bound `fU` of the dual optimal value $\\hat{f_{d}}$ can be computed by calling:"
   ]
  },
  {
   "cell_type": "code",
   "execution_count": 10,
   "metadata": {},
   "outputs": [
    {
     "name": "stdout",
     "output_type": "stream",
     "text": [
      "fU =  8.000000025997927\n"
     ]
    }
   ],
   "source": [
    "obj.rigorous_upper_bound ();\n",
    "fU = obj.solutions.rigorous_upper_bound.f_objective(2)"
   ]
  },
  {
   "cell_type": "markdown",
   "metadata": {},
   "source": [
    "The summary output of the VSDP object contains the information about\n",
    "the rigorous error bounds, as well.\n",
    "It can be extracted if necessary."
   ]
  },
  {
   "cell_type": "code",
   "execution_count": 11,
   "metadata": {},
   "outputs": [
    {
     "name": "stdout",
     "output_type": "stream",
     "text": [
      "obj =\n",
      "  VSDP conic programming problem with dimensions:\n",
      "\n",
      "    [n,m] = size(obj.At)\n",
      "     n    = 5 variables\n",
      "       m  = 2 constraints\n",
      "\n",
      "  and cones:\n",
      "\n",
      "     K.l = 5\n",
      "\n",
      "  obj.solutions.approximate:\n",
      "\n",
      "      Solver 'sdpt3': Normal termination, 0.3 seconds.\n",
      "\n",
      "        c'*x = 8.000000025993693e+00\n",
      "        b'*y = 7.999999987362061e+00\n",
      "\n",
      "\n",
      "  obj.solutions.rigorous_lower_bound:\n",
      "\n",
      "      Normal termination, 0.0 seconds, 0 iterations.\n",
      "\n",
      "          fL = 7.999999987362061e+00\n",
      "\n",
      "  obj.solutions.rigorous_upper_bound:\n",
      "\n",
      "      Normal termination, 0.0 seconds, 0 iterations.\n",
      "\n",
      "          fU = 8.000000025997927e+00\n",
      "\n",
      "\n",
      "\n",
      "  Detailed information:  'obj.info()'\n",
      "\n",
      "\n"
     ]
    }
   ],
   "source": [
    "obj"
   ]
  },
  {
   "cell_type": "markdown",
   "metadata": {},
   "source": [
    "Despite the rigorous lower bound `fL`,\n",
    "the solution object `obj.solutions.rigorous_lower_bound`\n",
    "contains more information:\n",
    "\n",
    "1. `Y` is a rigorous interval enclosure of a dual feasible near optimal solution and\n",
    "2. `Zl` a lower bound of each cone in $z = c - A^{*} y$.\n",
    "   For a linear program this is a lower bound on each component of `z`."
   ]
  },
  {
   "cell_type": "code",
   "execution_count": 12,
   "metadata": {},
   "outputs": [
    {
     "name": "stdout",
     "output_type": "stream",
     "text": [
      "intval Y = \n",
      "[    0.9999,    1.0000] \n",
      "[    2.0000,    2.0001] \n",
      "Zl =\n",
      "   0.9999999873621\n",
      "   0.0000000252759\n",
      "   2.0000000042126\n",
      "   2.0000000126379\n",
      "   0.0000000042126\n",
      "\n"
     ]
    }
   ],
   "source": [
    "format short\n",
    "format infsup\n",
    " Y = obj.solutions.rigorous_lower_bound.y\n",
    "Zl = obj.solutions.rigorous_lower_bound.z"
   ]
  },
  {
   "cell_type": "markdown",
   "metadata": {},
   "source": [
    "Since `Zl` is positive, the dual problem is strictly feasible,\n",
    "and the rigorous interval vector `Y` contains a dual interior solution.\n",
    "Here only some significant digits of this interval vector are displayed.\n",
    "The upper and lower bounds of the interval `Y`\n",
    "can be obtained by using the `sup` and `inf` routines of INTLAB.\n",
    "For more information about the `intval` data type see {cite}`Rump1999`."
   ]
  },
  {
   "cell_type": "markdown",
   "metadata": {},
   "source": [
    "The information returned by `vsdp.rigorous_upper_bound` is similar:\n",
    "\n",
    "1. `X` is a rigorous interval enclosure of a primal feasible near optimal solution and\n",
    "2. `Xl` a lower bound of each cone in `X`.\n",
    "   Again, for a linear program this is a lower bound on each component of `X`."
   ]
  },
  {
   "cell_type": "code",
   "execution_count": 13,
   "metadata": {},
   "outputs": [
    {
     "name": "stdout",
     "output_type": "stream",
     "text": [
      "intval X = \n",
      "[    0.0000,    0.0001] \n",
      "[    0.2500,    0.2501] \n",
      "[    0.0000,    0.0001] \n",
      "[    0.0000,    0.0001] \n",
      "[    1.5000,    1.5001] \n",
      "Xl =\n",
      "   0.0000000092324\n",
      "   0.2500000014474\n",
      "   0.0000000040905\n",
      "   0.0000000042923\n",
      "   1.5000000020452\n",
      "\n"
     ]
    }
   ],
   "source": [
    "X  = obj.solutions.rigorous_upper_bound.x\n",
    "Xl = obj.solutions.rigorous_upper_bound.z"
   ]
  },
  {
   "cell_type": "markdown",
   "metadata": {},
   "source": [
    "Since `Xl` is a positive vector,\n",
    "`X` is contained in the positive orthant and\n",
    "the primal problem is strictly feasible."
   ]
  },
  {
   "cell_type": "markdown",
   "metadata": {},
   "source": [
    "Summarizing,\n",
    "we have obtained a primal-dual interval solution pair with an accuracy measured by\n",
    "\n",
    "$$\n",
    "\\mu(a, b) = \\dfrac{a-b}{\\max\\{1.0, (|a| + |b|)/2\\}},\n",
    "$$\n",
    "\n",
    "see {cite}`Jansson2006`."
   ]
  },
  {
   "cell_type": "code",
   "execution_count": 14,
   "metadata": {},
   "outputs": [
    {
     "name": "stdout",
     "output_type": "stream",
     "text": [
      "mu =    4.8295e-09\n"
     ]
    }
   ],
   "source": [
    "format shorte\n",
    "mu = (fU - fL) / max (1, (abs (fU) + abs(fL)) / 2)"
   ]
  },
  {
   "cell_type": "markdown",
   "metadata": {},
   "source": [
    "This means,\n",
    "that the computed rigorous upper and lower error bounds have an accuracy\n",
    "of eight to nine decimal digits."
   ]
  },
  {
   "cell_type": "markdown",
   "metadata": {},
   "source": [
    "## Second example with free variables\n",
    "\n",
    "How a linear program with free variables can be rigorously solved by VSDP\n",
    "is demonstrated by the following example with one free variable $x_{3}$:"
   ]
  },
  {
   "cell_type": "markdown",
   "metadata": {},
   "source": [
    "$$\n",
    "\\begin{array}{ll}\n",
    "\\text{minimize}   & \\begin{pmatrix} 1 & 1 & -0.5 \\end{pmatrix} x, \\\\\n",
    "\\text{subject to}\n",
    "& \\begin{pmatrix} 1 & -1 & 2 \\\\ 1 & 1 & -1 \\end{pmatrix} x\n",
    "= \\begin{pmatrix} 0.5 \\\\ 1 \\end{pmatrix} \\\\\n",
    "& x_{1}, x_{2} \\in \\mathbb{R}_{+}^{2}, \\\\\n",
    "& x_{3} \\in \\mathbb{R}.\n",
    "\\end{array}\n",
    "$$"
   ]
  },
  {
   "cell_type": "markdown",
   "metadata": {},
   "source": [
    "The optimal solution pair of this problem is\n",
    "$x^{*} = (\\frac{5}{6}, 0, -\\frac{1}{6})^{T}$,\n",
    "$y^{*} = (\\frac{1}{6}, \\frac{5}{6})^{T}$\n",
    "with $\\hat{f}_{p} = \\hat{f}_{d} = \\frac{11}{12} \\approx 9.166\\ldots$."
   ]
  },
  {
   "cell_type": "markdown",
   "metadata": {},
   "source": [
    "When entering a conic problem the order of the variables is important:\n",
    "\n",
    "1. free variables,\n",
    "2. non-negative variables,\n",
    "3. second-order cone variables,\n",
    "4. semidefinite variables.\n",
    "\n",
    "All involved VSDP quantities,\n",
    "the constraint matrix `A`,\n",
    "the primal objective `c`,\n",
    "the primal solution `x`,\n",
    "as well as `z`,\n",
    "follow this order.\n",
    "In the second linear programming example,\n",
    "the free variable is $x_{3}$ and the non-negative variables are $x_{1}$ and $x_{2}$,\n",
    "respectively.\n",
    "Second-order cone variables and semidefinite variables are not present.\n",
    "\n",
    "Therefore, the problem data are:"
   ]
  },
  {
   "cell_type": "code",
   "execution_count": 15,
   "metadata": {},
   "outputs": [],
   "source": [
    "K.f = 1;  % number of free variables\n",
    "K.l = 2;  % number of non-negative variables\n",
    "A = [ 2, 1, -1;   % first column corresponds to free variable x3\n",
    "     -1, 1,  1];  % second and third to bounded x1, x2\n",
    "c = [-0.5; 1; 1]; % the same applies to c\n",
    "b = [0.5; 1];"
   ]
  },
  {
   "cell_type": "markdown",
   "metadata": {},
   "source": [
    "The whole VSDP computation can be done in a few lines of code:"
   ]
  },
  {
   "cell_type": "code",
   "execution_count": 16,
   "metadata": {},
   "outputs": [],
   "source": [
    "obj = vsdp (A, b, c, K);\n",
    "obj.options.VERBOSE_OUTPUT = false;\n",
    "obj.solve ('sdpt3') ...\n",
    "   .rigorous_lower_bound () ...\n",
    "   .rigorous_upper_bound ();"
   ]
  },
  {
   "cell_type": "markdown",
   "metadata": {},
   "source": [
    "Yielding"
   ]
  },
  {
   "cell_type": "code",
   "execution_count": 17,
   "metadata": {},
   "outputs": [
    {
     "name": "stdout",
     "output_type": "stream",
     "text": [
      "obj =\n",
      "  VSDP conic programming problem with dimensions:\n",
      "\n",
      "    [n,m] = size(obj.At)\n",
      "     n    = 3 variables\n",
      "       m  = 2 constraints\n",
      "\n",
      "  and cones:\n",
      "\n",
      "     K.f = 1\n",
      "     K.l = 2\n",
      "\n",
      "  obj.solutions.approximate:\n",
      "\n",
      "      Solver 'sdpt3': Normal termination, 0.3 seconds.\n",
      "\n",
      "        c'*x = 9.166666669227741e-01\n",
      "        b'*y = 9.166666662221519e-01\n",
      "\n",
      "\n",
      "  obj.solutions.rigorous_lower_bound:\n",
      "\n",
      "      Normal termination, 0.0 seconds, 0 iterations.\n",
      "\n",
      "          fL = 9.166666662221495e-01\n",
      "\n",
      "  obj.solutions.rigorous_upper_bound:\n",
      "\n",
      "      Normal termination, 0.0 seconds, 0 iterations.\n",
      "\n",
      "          fU = 9.166666669227844e-01\n",
      "\n",
      "\n",
      "\n",
      "  Detailed information:  'obj.info()'\n",
      "\n",
      "\n"
     ]
    }
   ],
   "source": [
    "obj"
   ]
  }
 ],
 "metadata": {
  "kernelspec": {
   "display_name": "Octave",
   "language": "octave",
   "name": "octave"
  },
  "language_info": {
   "file_extension": ".m",
   "help_links": [
    {
     "text": "GNU Octave",
     "url": "https://www.gnu.org/software/octave/support.html"
    },
    {
     "text": "Octave Kernel",
     "url": "https://github.com/Calysto/octave_kernel"
    },
    {
     "text": "MetaKernel Magics",
     "url": "https://metakernel.readthedocs.io/en/latest/source/README.html"
    }
   ],
   "mimetype": "text/x-octave",
   "name": "octave",
   "version": "6.4.0"
  }
 },
 "nbformat": 4,
 "nbformat_minor": 4
}
