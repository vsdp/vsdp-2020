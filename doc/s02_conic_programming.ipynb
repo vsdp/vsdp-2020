{
 "cells": [
  {
   "cell_type": "code",
   "execution_count": null,
   "metadata": {
    "tags": [
     "hide-input",
     "hide-output"
    ]
   },
   "outputs": [],
   "source": [
    "run (fullfile ('..', 'install_vsdp.m'))"
   ]
  },
  {
   "cell_type": "markdown",
   "metadata": {},
   "source": [
    "# Conic Programming\n",
    "\n",
    "## Primal and dual form\n",
    "\n",
    "VSDP can handle three self dual convex cones,\n",
    "that often occur in practical applications.\n",
    "These are:"
   ]
  },
  {
   "cell_type": "markdown",
   "metadata": {},
   "source": [
    "* The non-negative orthant:\n",
    "\n",
    "$$\n",
    "\\mathbb{R}^{n}_{+} := \\{ x \\in \\mathbb{R}^{n} \\colon\\; x_{i} \\geq 0, \\; i = 1, \\ldots, n \\}.\n",
    "$$\n",
    "\n",
    "* The Lorentz cone (see {cite}`Alizadeh2003`):\n",
    "\n",
    "$$\n",
    "\\mathbb{L}^{n} := \\{ x \\in \\mathbb{R}^{n} \\colon x_{1} \\geq \\|x_{2:n}\\|_{2}\\}.\n",
    "$$\n",
    "\n",
    "* The cone of symmetric positive semidefinite matrices:\n",
    "\n",
    "$$\n",
    "\\mathbb{S}^{n}_{+} := \\left\\{ X \\in \\mathbb{R}^{n \\times n} \\colon\\;\n",
    "X = X^{T},\\; v^{T} X v \\geq 0,\\; \\forall v \\in \\mathbb{R}^{n} \\right\\}.\n",
    "$$"
   ]
  },
  {
   "cell_type": "markdown",
   "metadata": {},
   "source": [
    "If a quantity is in the interior of one of the above cones,\n",
    "the definitions above must hold with strict inequalities."
   ]
  },
  {
   "cell_type": "markdown",
   "metadata": {},
   "source": [
    "By $\\langle c, x \\rangle := c^{T} x$\n",
    "the usual Euclidean inner product of vectors in $\\mathbb{R}^{n}$ is denoted.\n",
    "For symmetric matrices $X, Y \\in \\mathbb{S}^{n}$ the inner product is given by\n",
    "$\\langle X,Y \\rangle := \\text{trace}(XY)$."
   ]
  },
  {
   "cell_type": "markdown",
   "metadata": {},
   "source": [
    "Let $A^{f}$ and $A^{l}$ be a $m \\times n_{f}$ and a $m \\times n_{l}$ matrix,\n",
    "respectively,\n",
    "and let $A_{i}^{q}$ be $m \\times q_{i}$ matrices for $i = 1,\\ldots,n_{q}$.\n",
    "Let $c^{f} \\in \\mathbb{R}^{n_{f}}$,\n",
    "$c^{l} \\in \\mathbb{R}^{n_{l}}$,\n",
    "$c_{i}^{q} \\in \\mathbb{R}^{q_i}$, and\n",
    "$b \\in \\mathbb{R}^{m}$.\n",
    "Moreover, let $A_{1,j}^{s}, \\ldots, A_{m,j}^{s}$, $C_{j}^{s}$, $X_{j}^{s}$\n",
    "be symmetric $s_{j} \\times s_{j}$ matrices for $j = 1, \\ldots, n_{s}$."
   ]
  },
  {
   "cell_type": "markdown",
   "metadata": {},
   "source": [
    "Now we can define the conic semidefinite-quadratic-linear programming problem\n",
    "in primal standard form\n",
    "\n",
    "$$\n",
    "\\begin{array}{ll}\n",
    "\\text{minimize} &\n",
    "\\langle c^{f}, x^{f} \\rangle + \\langle c^{l}, x^{l} \\rangle +\n",
    "\\sum_{i=1}^{n_{q}} \\langle c_{i}^{q}, x_{i}^{q} \\rangle +\n",
    "\\sum_{j=1}^{n_{s}} \\langle C_{j}^{s}, X_{j}^{s} \\rangle \\\\\n",
    "\\text{subject to} &\n",
    "A^{f} x^{f} + A^{l} x^{l} + \\sum_{i=1}^{n_{q}} A_{i}^{q} x_{i}^{q} +\n",
    "\\sum_{j=1}^{n_{s}}\\mathcal{A}_{j}^{s}(X_{j}^{s}) = b, \\\\\n",
    "& x^{f} \\in \\mathbb{R}^{n_{f}}, \\\\\n",
    "& x^{l} \\in \\mathbb{R}^{n_{l}}_{+}, \\\\\n",
    "& x_{i}^{q} \\in \\mathbb{L}^{q_i}, \\quad i = 1, \\ldots, n_{q}, \\\\\n",
    "& X_{j}^{s} \\in \\mathbb{S}^{s_{j}}_{+}, \\quad j = 1, \\ldots, n_{s},\n",
    "\\end{array}\n",
    "$$\n",
    "\n",
    "where $x^{f}$ are \"free variables\",\n",
    "$x^{l}$ are \"non-negative variables\",\n",
    "$x_{i}^{q}$ are \"second-order cone (SOCP) variables\",\n",
    "and finally $X_{j}^{s}$ are \"positive semidefinite (SDP) variables\".\n",
    "The linear operator\n",
    "\n",
    "$$\n",
    "\\mathcal{A}_{j}^{s}(X_{j}^{s}) :=\n",
    "\\begin{pmatrix}\n",
    "\\langle A_{1j}^{s}, X_{j}^{s} \\rangle \\\\\n",
    "\\vdots \\\\\n",
    "\\langle A_{mj}^{s}, X_{j}^{s} \\rangle\n",
    "\\end{pmatrix}$$\n",
    "maps the symmetric matrices $X_{j}^{s}$ to $\\mathbb{R}^{m}$.\n",
    "The adjoint linear operator is\n",
    "\n",
    "$$\n",
    "(\\mathcal{A}_{j}^{s})^{*} y := \\sum_{k=1}^{m} A_{kj}^{s} y_{k}.\n",
    "$$"
   ]
  },
  {
   "cell_type": "markdown",
   "metadata": {},
   "source": [
    "The dual problem associated with the primal standard form is"
   ]
  },
  {
   "cell_type": "markdown",
   "metadata": {},
   "source": [
    "$$\n",
    "\\begin{array}{ll}\n",
    "\\text{maximize} & b^{T} y \\\\\n",
    "\\text{subject to}\n",
    "& (A^{f})^{T} y + z^{f} = c^{f}, \\\\\n",
    "& (A^{l})^{T} y + z^{l} = c^{l}, \\\\\n",
    "& (A_{i}^{q})^{T} y + z_{i}^{q} = c_{i}^{q}, \\\\\n",
    "& (\\mathcal{A}_{j}^{s})^{*} y + Z_{j}^{s} = C_{j}^{s},\n",
    "\\end{array}\n",
    "$$"
   ]
  },
  {
   "cell_type": "markdown",
   "metadata": {},
   "source": [
    "where $z^{f} \\in \\lbrace 0 \\rbrace^{n_{f}}$,\n",
    "$z^{l} \\in \\mathbb{R}^{n_{l}}_{+}$,\n",
    "$z_{i}^{q} \\in \\mathbb{L}^{q_i}$, $i = 1, \\ldots, n_{q}$, and\n",
    "$Z_{j}^{s} \\in \\mathbb{S}^{s_{j}}_{+}$, $j = 1, \\ldots, n_{s}$."
   ]
  },
  {
   "cell_type": "markdown",
   "metadata": {},
   "source": [
    "The objective functions and equality constraints of the primal and dual problem are linear.\n",
    "Thus conic programming can be seen as an extension of linear programming\n",
    "with additional conic constraints."
   ]
  },
  {
   "cell_type": "markdown",
   "metadata": {},
   "source": [
    "By definition the vector $x^{f}$ contains all unconstrained or free variables,\n",
    "whereas all other variables are bounded by conic constraints.\n",
    "In several applications some solvers (for example SDPA or CSDP) require that\n",
    "free variables are converted into the difference of non-negative variables.\n",
    "Besides the major disadvantage that this transformation is numerical unstable,\n",
    "it also increases the number of variables of the particular problems.\n",
    "In VSDP [free variables](free_variables) can be handled in a numerical stable manner."
   ]
  },
  {
   "cell_type": "markdown",
   "metadata": {},
   "source": [
    "## Condensed form\n",
    "\n",
    "Occasionally, it is useful to represent the conic programming problem in a\n",
    "more compact form by using the symmetric vectorization operator.\n",
    "This operator maps a symmetric matrix $X \\in \\mathbb{S}^{n}$\n",
    "to an $n(n + 1)/2$-dimensional vector\n",
    "\n",
    "$$\n",
    "svec(X, \\alpha) :=\n",
    "\\begin{pmatrix}\n",
    "X_{11} & \\alpha X_{12} & X_{22} & \\alpha X_{13} & \\cdots &  X_{nn}\n",
    "\\end{pmatrix}^{T},\n",
    "$$\n",
    "\n",
    "where $\\alpha$ is a scaling factor for the off diagonal elements.\n",
    "The inverse operation is denoted by $smat$ such that\n",
    "$smat(svec(X, \\alpha), 1/\\alpha) = X$.\n",
    "For a vectorized quantity $x$, scaled by $\\alpha$,\n",
    "we often write $x \\in \\mathbb{S}^{n}$ as abbreviation for\n",
    "$smat(x, 1/\\alpha) \\in \\mathbb{S}^{n}$."
   ]
  },
  {
   "cell_type": "markdown",
   "metadata": {},
   "source": [
    "By using $svec$ it is possible to map each symmetric matrix to a vector\n",
    "quantity.  Additionally, by using the scaling factor $\\alpha = 1$ for all\n",
    "$A_{kj}^{s}$, $C_{j}^{s}$, and $Z_{j}^{s}$ and the scaling factor\n",
    "$\\alpha = 2$ for all $X_{j}^{s}$, the inner product of symmetric matrices\n",
    "reduces to a simple scalar product of two vectors.  Thus all cones can be\n",
    "treated equally."
   ]
  },
  {
   "cell_type": "markdown",
   "metadata": {},
   "source": [
    "The condensed quantities $c$, $x$, and $z$ are $n \\times 1$-vectors:"
   ]
  },
  {
   "cell_type": "markdown",
   "metadata": {},
   "source": [
    "$$\n",
    "c :=\n",
    "\\begin{pmatrix}\n",
    "c^{f} \\\\ c^{l} \\\\ c_{1}^{q} \\\\ \\vdots \\\\ c_{n_{q}}^{q} \\\\\n",
    "svec(C_{1}^{s},1) \\\\ \\vdots \\\\ svec(C_{n_{s},1}^{s}) \\\\\n",
    "\\end{pmatrix},\n",
    "x :=\n",
    "\\begin{pmatrix}\n",
    "x^{f} \\\\ x^{l} \\\\ x_{1}^{q} \\\\ \\vdots \\\\ x_{n_{q}}^{q} \\\\\n",
    "svec(X_{1}^{s},2) \\\\ \\vdots \\\\ svec(X_{n_{s},2}^{s})\n",
    "\\end{pmatrix},\n",
    "z :=\n",
    "\\begin{pmatrix}\n",
    "z^{f} \\\\ z^{l} \\\\ z_{1}^{q} \\\\ \\vdots \\\\ z_{n_{q}}^{q} \\\\\n",
    "svec(Z_{1}^{s},1) \\\\ \\vdots \\\\ svec(Z_{n_{s}}^{s},1) \\\\\n",
    "\\end{pmatrix},\n",
    "$$"
   ]
  },
  {
   "cell_type": "markdown",
   "metadata": {},
   "source": [
    "where $n = n_{f} + n_{l} + \\sum_{i = 1}^{n_{q}} q_{i} + \\sum_{j = 1}^{n_{s}} s_{j}(s_{j} + 1)/2$.\n",
    "$A^{T}$ becomes an $n \\times m$ matrix"
   ]
  },
  {
   "cell_type": "markdown",
   "metadata": {},
   "source": [
    "$$\n",
    "A^{T} :=\n",
    "\\begin{pmatrix}\n",
    "& A^{f} & \\\\\n",
    "& A^{l} & \\\\\n",
    "& A_{1}^{q} & \\\\\n",
    "& \\vdots & \\\\\n",
    "& A_{n_{q}}^{q} & \\\\\n",
    "svec(A_{11}^{s},1) & \\cdots & svec(A_{1m}^{s},1) \\\\\n",
    "\\vdots & & \\vdots \\\\\n",
    "svec(A_{n_{s}1}^{s},1) & \\cdots & svec(A_{n_{s}m}^{s},1)\n",
    "\\end{pmatrix}\n",
    "$$"
   ]
  },
  {
   "cell_type": "markdown",
   "metadata": {},
   "source": [
    "Let the constraint cone $K$ and its dual cone $K^{*}$ be"
   ]
  },
  {
   "cell_type": "markdown",
   "metadata": {},
   "source": [
    "$$\n",
    "\\begin{aligned}\n",
    "\\mathcal{K} &:=&\n",
    "\\mathbb{R}^{n_{f}} &\\times\n",
    "\\mathbb{R}^{n_{l}}_{+} \\times\n",
    "\\mathbb{L}^{q_{1}} \\times \\ldots \\times \\mathbb{L}^{q_{n_{q}}} \\times\n",
    "\\mathbb{S}^{s_{1}}_{+} \\times \\ldots \\times \\mathbb{S}^{s_{n_{s}}}_{+}, \\\\\n",
    "\\mathcal{K}^{*} &:=&\n",
    "\\{0\\}^{n_{f}} &\\times\n",
    "\\mathbb{R}^{n_{l}}_{+} \\times\n",
    "\\mathbb{L}^{q_{1}} \\times \\ldots \\times \\mathbb{L}^{q_{n_{q}}} \\times\n",
    "\\mathbb{S}^{s_{1}}_{+} \\times \\ldots \\times \\mathbb{S}^{s_{n_{s}}}_{+}.\n",
    "\\end{aligned}\n",
    "$$"
   ]
  },
  {
   "cell_type": "markdown",
   "metadata": {},
   "source": [
    "With these abbreviations we obtain the following block form of the conic problem:"
   ]
  },
  {
   "cell_type": "markdown",
   "metadata": {},
   "source": [
    "$$\n",
    "\\begin{array}{ll}\n",
    "\\text{minimize}   & c^{T} x, \\\\\n",
    "\\text{subject to} & Ax = b, \\\\\n",
    "                  & x \\in \\mathcal{K},\n",
    "\\end{array}\n",
    "$$"
   ]
  },
  {
   "cell_type": "markdown",
   "metadata": {},
   "source": [
    "with optimal value $\\hat{f}_{p}$ and the corresponding dual problem"
   ]
  },
  {
   "cell_type": "markdown",
   "metadata": {},
   "source": [
    "$$\n",
    "\\begin{array}{ll}\n",
    "\\text{maximize}   & b^{T} y, \\\\\n",
    "\\text{subject to} & z = c - (A)^{T} y \\in \\mathcal{K}^{*},\n",
    "\\end{array}\n",
    "$$"
   ]
  },
  {
   "cell_type": "markdown",
   "metadata": {},
   "source": [
    "with optimal value $\\hat{f}_{d}$.\n",
    "In VSDP each conic problem is fully described by the four variables `(A, b, c, K)`.\n",
    "The first two quantities represent the affine constraints $Ax = b$.\n",
    "The third is the primal objective vector `c`,\n",
    "and the last describes the underlying cone.\n",
    "The cone `K` is a structure with four fields: `K.f`, `K.l`, `K.q`, and `K.s`.\n",
    "The field `K.f` stores the number of free variables $n_{f}$,\n",
    "the field `K.l` stores the number of non-negative variables $n_{l}$,\n",
    "the field `K.q` stores the dimensions $q_{1}, \\ldots, q_{n_{q}}$ of the second order cones,\n",
    "and similarly `K.s` stores the dimensions $s_{1}, \\ldots, s_{n_{s}}$ of the semidefinite cones.\n",
    "If a component of `K` is empty,\n",
    "then it is assumed that the corresponding cone does not occur."
   ]
  },
  {
   "cell_type": "markdown",
   "metadata": {},
   "source": [
    "It is well known that for linear programming problems strong duality\n",
    "$\\hat{f}_{p} = \\hat{f}_{d}$ holds without any constraint qualifications.\n",
    "General conic programs satisfy only the weak duality condition $\\hat{f}_{d} \\leq \\hat{f}_{p}$.\n",
    "Strong duality requires additional constraint qualifications,\n",
    "such as _Slater's constraint qualifications_\n",
    "(see {cite}`Vandenberghe1996` and {cite}`Ben-Tal2001`)."
   ]
  },
  {
   "cell_type": "markdown",
   "metadata": {},
   "source": [
    "> **Strong Duality Theorem**\n",
    ">\n",
    "> * If the primal problem is strictly feasible (i.e. there exists a primal\n",
    ">   feasible point $x$ in the interior of $K$) and $\\hat{f}_{p}$ is finite,\n",
    ">   then $\\hat{f}_{p} = \\hat{f}_{d}$ and the dual supremum is attained.\n",
    "> * If the dual problem is strictly feasible (i.e. there exists some $y$ such\n",
    ">   that $z = c - (A)^{T} y$ is in the interior of $K^{*}$) and $\\hat{f}_{d}$\n",
    ">   is finite, then $\\hat{f}_{d} = \\hat{f}_{p}$, and the primal infimum is\n",
    ">   attained."
   ]
  },
  {
   "cell_type": "markdown",
   "metadata": {},
   "source": [
    "In general, the primal or dual problem formulation may have optimal solutions\n",
    "while its respective dual problem is infeasible, or the duality gap may be\n",
    "positive at optimality."
   ]
  },
  {
   "cell_type": "markdown",
   "metadata": {},
   "source": [
    "Duality theory is central to the study of optimization.\n",
    "Firstly, algorithms are frequently based on duality\n",
    "(like primal-dual interior-point methods),\n",
    "secondly, they enable one to check whether or not a given feasible point is optimal,\n",
    "and thirdly, it allows one to compute verified results efficiently."
   ]
  },
  {
   "cell_type": "markdown",
   "metadata": {},
   "source": [
    "## Interval arithmetic\n",
    "\n",
    "For the usage of VSDP a knowledge of interval arithmetic\n",
    "{cite}`Rump2010` is not required,\n",
    "but some error bound outputs are intervals.\n",
    "Therefore we give a very brief introduction to interval formats.\n",
    "An interval vector or an interval matrix is defined as a set of vectors or matrices\n",
    "that vary between a lower and an upper vector or matrix,\n",
    "respectively.\n",
    "In other words,\n",
    "these are quantities with interval components."
   ]
  },
  {
   "cell_type": "markdown",
   "metadata": {},
   "source": [
    "In INTLAB {cite}`Rump1999` these interval quantities\n",
    "can be initialized with the `infsup`-function."
   ]
  },
  {
   "cell_type": "code",
   "execution_count": 2,
   "metadata": {},
   "outputs": [
    {
     "name": "stdout",
     "output_type": "stream",
     "text": [
      "intval x = \n",
      "[   -1.0000,    2.0000] \n"
     ]
    }
   ],
   "source": [
    "format infsup short\n",
    "x = infsup (-1, 2)"
   ]
  },
  {
   "cell_type": "markdown",
   "metadata": {},
   "source": [
    "Equivalently,\n",
    "these quantities can be defined by a midpoint-radius representation,\n",
    "using the `midrad`-function."
   ]
  },
  {
   "cell_type": "code",
   "execution_count": 3,
   "metadata": {},
   "outputs": [
    {
     "name": "stdout",
     "output_type": "stream",
     "text": [
      "intval y = \n",
      "<    0.5000,   1.5000> \n",
      "intval y = \n",
      "[   -1.0000,    2.0000] \n"
     ]
    }
   ],
   "source": [
    "format midrad short\n",
    "y = midrad (0.5, 1.5)\n",
    "format infsup short\n",
    "y"
   ]
  }
 ],
 "metadata": {
  "kernelspec": {
   "display_name": "Octave",
   "language": "octave",
   "name": "octave"
  },
  "language_info": {
   "file_extension": ".m",
   "help_links": [
    {
     "text": "GNU Octave",
     "url": "https://www.gnu.org/software/octave/support.html"
    },
    {
     "text": "Octave Kernel",
     "url": "https://github.com/Calysto/octave_kernel"
    },
    {
     "text": "MetaKernel Magics",
     "url": "https://metakernel.readthedocs.io/en/latest/source/README.html"
    }
   ],
   "mimetype": "text/x-octave",
   "name": "octave",
   "version": "6.4.0"
  }
 },
 "nbformat": 4,
 "nbformat_minor": 4
}
