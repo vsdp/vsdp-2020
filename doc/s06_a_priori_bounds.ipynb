{
 "cells": [
  {
   "cell_type": "code",
   "execution_count": null,
   "metadata": {
    "tags": [
     "hide-input",
     "hide-output"
    ]
   },
   "outputs": [],
   "source": [
    "run (fullfile ('..', 'install_vsdp.m'))"
   ]
  },
  {
   "cell_type": "markdown",
   "metadata": {},
   "source": [
    "# A Priori Bounds\n",
    "\n",
    "In many practical applications the order of the magnitude of a primal or dual\n",
    "optimal solution is known a priori.  This is the case in many combinatorial\n",
    "optimization problems, or, for instance, in truss topology design where the\n",
    "design variables such as bar volumes can be roughly bounded.  If such bounds\n",
    "are available they can speed up the computation of rigorous error bounds\n",
    "for the optimal value substantially, see {cite}`Jansson2006`."
   ]
  },
  {
   "cell_type": "markdown",
   "metadata": {},
   "source": [
    "For linear programming problems the upper bound for the variable $x^{l}$\n",
    "is a vector $\\bar{x}$ such that $x^{l} \\leq \\bar{x}$.\n",
    "For second-order cone programming the upper bounds for block variables\n",
    "$x_{i}^{q}$ with $i = 1,\\ldots,n_{q}$\n",
    "can be entered as a vector of upper bounds $\\overline{\\lambda}_{i}$\n",
    "of the largest eigenvalues"
   ]
  },
  {
   "cell_type": "markdown",
   "metadata": {},
   "source": [
    "$$\n",
    "\\lambda_{\\max}(x_{i}^{q}) = (x_{i}^{q})_{1} + ||(x_{i}^{q})_{:}||_{2}.\n",
    "$$"
   ]
  },
  {
   "cell_type": "markdown",
   "metadata": {},
   "source": [
    "Similarly, in semidefinite programs upper bounds for the primal variables\n",
    "$X_{j}^{s}$ can be entered as a vector of upper bounds of the largest\n",
    "eigenvalues $\\lambda_{\\max}(X_{j}^{s})$, $j = 1,\\ldots,n_{s}$.\n",
    "An upper bound $\\bar{y}$ for the dual optimal solution $y$ is a vector\n",
    "which is elementwise larger than $y$.\n",
    "Analogously, for conic programs with free variables the upper bound\n",
    "can be entered as a vector $\\bar{x}$ such that $|x^{f}| \\leq \\bar{x}$."
   ]
  },
  {
   "cell_type": "markdown",
   "metadata": {},
   "source": [
    "As an example, we consider the {ref}`sdp-example-2`\n",
    "with an upper bound $xu = 10^{5}$ for $\\lambda_{\\max}(X)$."
   ]
  },
  {
   "cell_type": "code",
   "execution_count": 2,
   "metadata": {},
   "outputs": [],
   "source": [
    "DELTA   = 1e-4;\n",
    "EPSILON = 2 * DELTA;\n",
    "\n",
    "c = [  0;   1/2;    0;\n",
    "      1/2; DELTA;   0;\n",
    "       0;    0;   DELTA ];\n",
    "\n",
    "At = {};\n",
    "At{1} = [ 0; -1/2; 0;\n",
    "        -1/2;  0;  0;\n",
    "          0;   0;  0 ];\n",
    "At{2} = [ 1; 0; 0;\n",
    "          0; 0; 0;\n",
    "          0; 0; 0 ];\n",
    "At{3} = [ 0; 0; 1;\n",
    "          0; 0; 0;\n",
    "          1; 0; 0 ];\n",
    "At{4} = [ 0; 0; 0;\n",
    "          0; 0; 1;\n",
    "          0; 1; 0 ];\n",
    "At = [At{:}];\n",
    "\n",
    "b = [1; EPSILON; 0; 0];\n",
    "\n",
    "K.s = 3;\n",
    "\n",
    "obj = vsdp (At, b, c, K);\n",
    "obj.options.VERBOSE_OUTPUT = false;"
   ]
  },
  {
   "cell_type": "markdown",
   "metadata": {},
   "source": [
    "Now we compute approximate solutions by using `vsdp.solve` and then rigorous\n",
    "error bounds by using `vsdp.rigorous_lower_bound` and `vsdp.rigorous_upper_bound`:"
   ]
  },
  {
   "cell_type": "code",
   "execution_count": 3,
   "metadata": {},
   "outputs": [
    {
     "name": "stdout",
     "output_type": "stream",
     "text": [
      "ans =\n",
      "  VSDP conic programming problem with dimensions:\n",
      "\n",
      "    [n,m] = size(obj.At)\n",
      "     n    = 6 variables\n",
      "       m  = 4 constraints\n",
      "\n",
      "  and cones:\n",
      "\n",
      "     K.s = [ 3 ]\n",
      "\n",
      "  obj.solutions.approximate:\n",
      "\n",
      "      Solver 'sedumi': Normal termination, 0.5 seconds.\n",
      "\n",
      "        c'*x = -4.999990761443555e-01\n",
      "        b'*y = -4.999968121457571e-01\n",
      "\n",
      "\n",
      "  obj.solutions.rigorous_lower_bound:\n",
      "\n",
      "      Normal termination, 0.0 seconds, 0 iterations.\n",
      "\n",
      "          fL = -5.000869997554969e-01\n",
      "\n",
      "  obj.solutions.rigorous_upper_bound:\n",
      "\n",
      "      Normal termination, 0.0 seconds, 0 iterations.\n",
      "\n",
      "          fU = -4.997496499568883e-01\n",
      "\n",
      "\n",
      "\n",
      "  Detailed information:  'obj.info()'\n",
      "\n",
      "\n"
     ]
    }
   ],
   "source": [
    "xu = 1e5;\n",
    "yu = 1e5 * [1 1 1 1]';\n",
    "\n",
    "obj.solve('sedumi') ...\n",
    "   .rigorous_lower_bound(xu) ...\n",
    "   .rigorous_upper_bound(yu)"
   ]
  },
  {
   "cell_type": "markdown",
   "metadata": {},
   "source": [
    "yielding rigorous error bounds with reasonable accuracy:"
   ]
  },
  {
   "cell_type": "code",
   "execution_count": 4,
   "metadata": {},
   "outputs": [
    {
     "name": "stdout",
     "output_type": "stream",
     "text": [
      "mu =    3.3735e-04\n"
     ]
    }
   ],
   "source": [
    "format shorte\n",
    "fL = obj.solutions.rigorous_lower_bound.f_objective(1);\n",
    "fU = obj.solutions.rigorous_upper_bound.f_objective(2);\n",
    "mu = (fU - fL) / max (1, (abs (fU) + abs(fL)) / 2)"
   ]
  },
  {
   "cell_type": "markdown",
   "metadata": {},
   "source": [
    "The advantage of rigorous error bounds\n",
    "computed with a priori bounds on the solution is,\n",
    "that the computational effort can be neglected."
   ]
  }
 ],
 "metadata": {
  "kernelspec": {
   "display_name": "Octave",
   "language": "octave",
   "name": "octave"
  },
  "language_info": {
   "file_extension": ".m",
   "help_links": [
    {
     "text": "GNU Octave",
     "url": "https://www.gnu.org/software/octave/support.html"
    },
    {
     "text": "Octave Kernel",
     "url": "https://github.com/Calysto/octave_kernel"
    },
    {
     "text": "MetaKernel Magics",
     "url": "https://metakernel.readthedocs.io/en/latest/source/README.html"
    }
   ],
   "mimetype": "text/x-octave",
   "name": "octave",
   "version": "6.4.0"
  }
 },
 "nbformat": 4,
 "nbformat_minor": 4
}
