{
 "cells": [
  {
   "cell_type": "code",
   "execution_count": null,
   "metadata": {
    "tags": [
     "hide-input",
     "hide-output"
    ]
   },
   "outputs": [],
   "source": [
    "run (fullfile ('..', 'install_vsdp.m'))"
   ]
  },
  {
   "cell_type": "markdown",
   "metadata": {},
   "source": [
    "# Semidefinite Programming\n",
    "\n",
    "The primal standard form of a conic program with $n_{s}$ symmetric positive\n",
    "semidefinite cones"
   ]
  },
  {
   "cell_type": "markdown",
   "metadata": {},
   "source": [
    "$$\n",
    "\\mathbb{S}^{s_{j}}_{+} := \\left\\{ X \\in \\mathbb{R}^{s_{j} \\times s_{j}}\n",
    "\\colon\\; X = X^{T},\\; v^{T} X v \\geq 0,\\; \\forall v \\in \\mathbb{R}^{s_{j}}\n",
    "\\right\\},\\quad j = 1,\\ldots,n_{s}.\n",
    "$$"
   ]
  },
  {
   "cell_type": "markdown",
   "metadata": {},
   "source": [
    "is"
   ]
  },
  {
   "cell_type": "markdown",
   "metadata": {},
   "source": [
    "$$\n",
    "\\begin{array}{lll}\n",
    "\\text{minimize}\n",
    "& \\sum_{j=1}^{n_{s}} \\langle C_{j}, X_{j} \\rangle & \\\\\n",
    "\\text{subject to}\n",
    "& \\sum_{j=1}^{n_{s}} \\langle A_{ij}, X_{j} \\rangle = b_{i},\n",
    "& i = 1,\\ldots,m, \\\\\n",
    "& X_{j} \\in \\mathbb{S}^{s_{j}}_{+},\n",
    "& j = 1,\\ldots,n_{s},\n",
    "\\end{array}\n",
    "$$"
   ]
  },
  {
   "cell_type": "markdown",
   "metadata": {},
   "source": [
    "with symmetric $s_{j} \\times s_{j}$ matrices $A_{ij}$ and $C_{j}$.\n",
    "The dual problem form is"
   ]
  },
  {
   "cell_type": "markdown",
   "metadata": {},
   "source": [
    "$$\n",
    "\\begin{array}{ll}\n",
    "\\text{maximize} & b^{T} y \\\\\n",
    "\\text{subject to}\n",
    "& Z_{j} := C_{j} - \\sum_{i=1}^{m} y_{i} A_{ij}\n",
    "  \\in \\mathbb{S}^{s_{j}}_{+},\\quad j = 1, \\ldots, n_{s}.\n",
    "\\end{array}\n",
    "$$"
   ]
  },
  {
   "cell_type": "markdown",
   "metadata": {},
   "source": [
    "## First SDP-Example\n",
    "\n",
    "We consider an example from the CSDP User's Guide {cite}`Borchers2017`:"
   ]
  },
  {
   "cell_type": "markdown",
   "metadata": {},
   "source": [
    "$$\n",
    "\\begin{array}{lll}\n",
    "\\text{minimize}\n",
    "& \\sum_{j=1}^{3} \\langle C_{j}, X_{j} \\rangle & \\\\\n",
    "\\text{subject to}\n",
    "& \\sum_{j=1}^{3} \\langle A_{ij}, X_{j} \\rangle = b_{i},\\quad\n",
    "     i = 1,2, \\\\\n",
    "& X_{1} \\in \\mathbb{S}^{2}_{+}, \\\\\n",
    "& X_{2} \\in \\mathbb{S}^{3}_{+}, \\\\\n",
    "& X_{3} \\in \\mathbb{S}^{2}_{+},\n",
    "\\end{array}\n",
    "$$"
   ]
  },
  {
   "cell_type": "markdown",
   "metadata": {},
   "source": [
    "where $b = \\begin{pmatrix} 1 \\\\ 2 \\end{pmatrix}$,"
   ]
  },
  {
   "cell_type": "markdown",
   "metadata": {},
   "source": [
    "$$\n",
    "\\begin{array}{ccc}\n",
    "  C^{s_{1}}_{1} = \\begin{pmatrix} -2 & -1 \\\\ -1 & -2 \\end{pmatrix},\n",
    "& C^{s_{2}}_{2} =\n",
    "  \\begin{pmatrix} -3 & 0 & -1 \\\\ 0 & -2 & 0 \\\\ -1 & 0 & -3 \\end{pmatrix},\n",
    "& C^{s_{3}}_{3} = \\begin{pmatrix} 0 & 0 \\\\ 0 & 0 \\end{pmatrix}, \\\\\n",
    "  A^{s_{1}}_{1,1} = \\begin{pmatrix} 3 & 1 \\\\ 1 & 3 \\end{pmatrix},\n",
    "& A^{s_{2}}_{1,2} =\n",
    "  \\begin{pmatrix} 0 & 0 & 0 \\\\ 0 & 0 & 0 \\\\ 0 & 0 & 0 \\end{pmatrix},\n",
    "& A^{s_{3}}_{1,3} = \\begin{pmatrix} 1 & 0 \\\\ 0 & 0 \\end{pmatrix}, \\\\\n",
    "  A^{s_{1}}_{2,1} = \\begin{pmatrix} 0 & 0 \\\\ 0 & 0 \\end{pmatrix},\n",
    "& A^{s_{2}}_{2,2} =\n",
    "  \\begin{pmatrix} 3 & 0 & 1 \\\\ 0 & 4 & 0 \\\\ 1 & 0 & 5 \\end{pmatrix},\n",
    "& A^{s_{3}}_{2,3} = \\begin{pmatrix} 0 & 0 \\\\ 0 & 1 \\end{pmatrix}.\n",
    "\\end{array}\n",
    "$$"
   ]
  },
  {
   "cell_type": "markdown",
   "metadata": {},
   "source": [
    "In the vectorized format the corresponding coefficient matrix `At`\n",
    "and the primal objective vector `c` are"
   ]
  },
  {
   "cell_type": "code",
   "execution_count": 2,
   "metadata": {},
   "outputs": [],
   "source": [
    "At{1} = [ 3; 1;\n",
    "          1; 3;\n",
    "          0; 0; 0;\n",
    "          0; 0; 0;\n",
    "          0; 0; 0;\n",
    "          1; 0;\n",
    "          0; 0 ];\n",
    "At{2} = [ 0; 0;\n",
    "          0; 0;\n",
    "          3; 0; 1;\n",
    "          0; 4; 0;\n",
    "          1; 0; 5;\n",
    "          0; 0;\n",
    "          0; 1 ];\n",
    "At = [At{:}];\n",
    "\n",
    "b = [ 1;\n",
    "      2 ];\n",
    "\n",
    "c = [ -2; -1; \n",
    "      -1; -2;\n",
    "      -3;  0; -1;\n",
    "       0; -2;  0;\n",
    "      -1;  0; -3;\n",
    "       0;  0;\n",
    "       0;  0];"
   ]
  },
  {
   "cell_type": "markdown",
   "metadata": {},
   "source": [
    "And the cone structure `K` for this problem is"
   ]
  },
  {
   "cell_type": "code",
   "execution_count": 3,
   "metadata": {},
   "outputs": [],
   "source": [
    "K.s = [2 3 2];\n",
    "obj = vsdp (At, b, c, K);"
   ]
  },
  {
   "cell_type": "markdown",
   "metadata": {},
   "source": [
    "Before one starts with approximately solving the SDP,\n",
    "one can check for diagonal only SDP cones and convert them\n",
    "to linear cones.\n",
    "This is beneficial for two reasons:\n",
    "Firstly,\n",
    "storing linear cones requires less memory,\n",
    "and secondly,\n",
    "VSDP does not have to compute eigenvalues for the cone verification."
   ]
  },
  {
   "cell_type": "code",
   "execution_count": 4,
   "metadata": {},
   "outputs": [
    {
     "name": "stdout",
     "output_type": "stream",
     "text": [
      "warning: analyze: K.s(3) seems to only have diagonal elements.  \n",
      "warning: called from\n",
      "    analyze>pattern1 at line 72 column 7\n",
      "    analyze at line 50 column 5\n",
      " --> Convert it to LP block.\n"
     ]
    }
   ],
   "source": [
    "obj = obj.analyze (true);"
   ]
  },
  {
   "cell_type": "markdown",
   "metadata": {},
   "source": [
    "When calling `vsdp.analyze` with the argument `true`,\n",
    "all possible optimization are applied.\n",
    "Note that in the original example by Borchers {cite}`Borchers2017`\n",
    "the last cone was already marked as diagonal only.\n",
    "This was only changed for the sake of demonstration."
   ]
  },
  {
   "cell_type": "markdown",
   "metadata": {},
   "source": [
    "Now we compute approximate solutions by using `vsdp.solve`\n",
    "and then rigorous error bounds by using `vsdp.rigorous_lower_bound`\n",
    "and `vsdp.rigorous_upper_bound`:"
   ]
  },
  {
   "cell_type": "code",
   "execution_count": 5,
   "metadata": {},
   "outputs": [
    {
     "name": "stdout",
     "output_type": "stream",
     "text": [
      "ans =\n",
      "  VSDP conic programming problem with dimensions:\n",
      "\n",
      "    [n,m] = size(obj.At)\n",
      "     n    = 11 variables\n",
      "       m  =  2 constraints\n",
      "\n",
      "  and cones:\n",
      "\n",
      "     K.l = 2\n",
      "     K.s = [ 2, 3 ]\n",
      "\n",
      "  obj.solutions.approximate:\n",
      "\n",
      "      Solver 'sdpt3': Normal termination, 0.5 seconds.\n",
      "\n",
      "        c'*x = -2.749999966056186e+00\n",
      "        b'*y = -2.750000014595577e+00\n",
      "\n",
      "\n",
      "  obj.solutions.rigorous_lower_bound:\n",
      "\n",
      "      Normal termination, 0.0 seconds, 0 iterations.\n",
      "\n",
      "          fL = -2.750000014595577e+00\n",
      "\n",
      "  obj.solutions.rigorous_upper_bound:\n",
      "\n",
      "      Normal termination, 0.0 seconds, 0 iterations.\n",
      "\n",
      "          fU = -2.749999966061941e+00\n",
      "\n",
      "\n",
      "\n",
      "  Detailed information:  'obj.info()'\n",
      "\n",
      "\n"
     ]
    }
   ],
   "source": [
    "obj.options.VERBOSE_OUTPUT = false;\n",
    "obj.solve('sdpt3') ...\n",
    "   .rigorous_lower_bound() ...\n",
    "   .rigorous_upper_bound()"
   ]
  },
  {
   "cell_type": "markdown",
   "metadata": {},
   "source": [
    "Those approximations match the true primal and dual optimal objective function value\n",
    "$\\hat{f}_{d} = \\hat{f}_{d} = -2.75$."
   ]
  },
  {
   "cell_type": "markdown",
   "metadata": {},
   "source": [
    "To compare the approximate solution `X`, `y`, and `Z`\n",
    "with the unique solution $\\hat{X}$, $\\hat{y}$, and $\\hat{Z}$ from \n",
    "{cite}`Borchers2017`,\n",
    "the vectorized solution quantities `x` and `z`\n",
    "have to be transformed back to matrices by using `vsdp.smat`\n",
    "and the appropriate scaling factor `alpha`:"
   ]
  },
  {
   "cell_type": "markdown",
   "metadata": {},
   "source": [
    "$$\n",
    "\\hat{X} = \\begin{pmatrix}\n",
    "0.125 & 0.125 & & & & & \\\\\n",
    "0.125 & 0.125 & & & & & \\\\\n",
    "& & 2/3 & 0 & 0 & \\\\\n",
    "& & 0 & 0 & 0 & \\\\\n",
    "& & 0 & 0 & 0 & \\\\\n",
    "& & & & & 0 & \\\\\n",
    "& & & & & & 0 \\\\\n",
    "\\end{pmatrix}\n",
    "$$"
   ]
  },
  {
   "cell_type": "code",
   "execution_count": 6,
   "metadata": {},
   "outputs": [
    {
     "name": "stdout",
     "output_type": "stream",
     "text": [
      "X1 =\n",
      "   0.12500   0.12500\n",
      "   0.12500   0.12500\n",
      "\n",
      "X2 =\n",
      "   0.66668   0.00000  -0.00002\n",
      "   0.00000   0.00000   0.00000\n",
      "  -0.00002   0.00000   0.00000\n",
      "\n",
      "X3 =\n",
      "   0.0000000090495\n",
      "   0.0000000067871\n",
      "\n"
     ]
    }
   ],
   "source": [
    "format short\n",
    "alpha = 1/2;  % Invert scaling by \"vdsp.svec\" \n",
    "\n",
    "x  = vsdp_indexable (full (obj.solutions.approximate.x), obj);\n",
    "X1 = vsdp.smat ([], x.s(1), alpha) % SDP Block 1\n",
    "X2 = vsdp.smat ([], x.s(2), alpha) % SDP Block 2\n",
    "X3 = x.l                           % LP  Block"
   ]
  },
  {
   "cell_type": "markdown",
   "metadata": {},
   "source": [
    "$$\n",
    "\\hat{y} = \\begin{pmatrix} -0.75 \\\\ -1 \\end{pmatrix},\n",
    "$$"
   ]
  },
  {
   "cell_type": "code",
   "execution_count": 7,
   "metadata": {},
   "outputs": [
    {
     "name": "stdout",
     "output_type": "stream",
     "text": [
      "y =\n",
      "  -0.75000\n",
      "  -1.00000\n",
      "\n"
     ]
    }
   ],
   "source": [
    "y = obj.solutions.approximate.y"
   ]
  },
  {
   "cell_type": "markdown",
   "metadata": {},
   "source": [
    "$$\n",
    "\\hat{Z} = \\begin{pmatrix}\n",
    "0.25 & -0.25 & & & & & \\\\\n",
    "-0.25 & 0.25 & & & & & \\\\\n",
    "& & 0 & 0 & 0 & \\\\\n",
    "& & 0 & 2 & 0 & \\\\\n",
    "& & 0 & 0 & 2 & \\\\\n",
    "& & & & & 0.75 & \\\\\n",
    "& & & & & & 1 \\\\\n",
    "\\end{pmatrix}\n",
    "$$"
   ]
  },
  {
   "cell_type": "code",
   "execution_count": 8,
   "metadata": {},
   "outputs": [
    {
     "name": "stdout",
     "output_type": "stream",
     "text": [
      "Z1 =\n",
      "   0.25000  -0.25000\n",
      "  -0.25000   0.25000\n",
      "\n",
      "Z2 =\n",
      "   0.00000   0.00000   0.00000\n",
      "   0.00000   2.00000   0.00000\n",
      "   0.00000   0.00000   2.00000\n",
      "\n",
      "Z3 =\n",
      "   0.0000000090495\n",
      "   0.0000000067871\n",
      "\n"
     ]
    }
   ],
   "source": [
    "alpha = 1;  % Invert scaling by \"vdsp.svec\" \n",
    "\n",
    "z  = vsdp_indexable (full (obj.solutions.approximate.z), obj);\n",
    "Z1 = vsdp.smat ([], z.s(1), alpha) % SDP Block 1\n",
    "Z2 = vsdp.smat ([], z.s(2), alpha) % SDP Block 2\n",
    "Z3 = x.l                           % LP  Block"
   ]
  },
  {
   "cell_type": "markdown",
   "metadata": {},
   "source": [
    "The computation of the rigorous lower bounds\n",
    "involves the computation of the smallest eigenvalues\n",
    "`Zl(j)` $= \\lambda_{\\min}([Z_{j}])$ for $j = 1,2,3$."
   ]
  },
  {
   "cell_type": "code",
   "execution_count": 9,
   "metadata": {},
   "outputs": [
    {
     "name": "stdout",
     "output_type": "stream",
     "text": [
      "Zl =\n",
      "   0.75000   1.00000   0.00000   0.00000\n",
      "\n"
     ]
    }
   ],
   "source": [
    "Zl = obj.solutions.rigorous_lower_bound.z'"
   ]
  },
  {
   "cell_type": "code",
   "execution_count": 10,
   "metadata": {},
   "outputs": [
    {
     "name": "stdout",
     "output_type": "stream",
     "text": [
      "intval Y = \n",
      "   -0.7500\n",
      "   -1.0000\n"
     ]
    }
   ],
   "source": [
    "Y  = obj.solutions.rigorous_lower_bound.y"
   ]
  },
  {
   "cell_type": "markdown",
   "metadata": {},
   "source": [
    "Since all `Zl >= 0`\n",
    "it is proven that all matrices $Z_{j}$ are in the interior of the cone $\\mathcal{K}$\n",
    "and `Y` is a rigorous enclosure of a dual strict feasible (near optimal) solution."
   ]
  },
  {
   "cell_type": "markdown",
   "metadata": {},
   "source": [
    "Analogous computations are performed for the rigorous upper bound.\n",
    "Here lower bounds on the smallest eigenvalue of the primal solution are computed\n",
    "`Xl(j)` $= \\lambda_{\\min}([X_{j}])$ for $j = 1,2,3$."
   ]
  },
  {
   "cell_type": "code",
   "execution_count": 11,
   "metadata": {},
   "outputs": [
    {
     "name": "stdout",
     "output_type": "stream",
     "text": [
      "Xl =\n",
      "   0.0000000090495   0.0000000067871   0.0000000135747   0.0000000029910\n",
      "\n"
     ]
    }
   ],
   "source": [
    "Xl = obj.solutions.rigorous_upper_bound.z'"
   ]
  },
  {
   "cell_type": "markdown",
   "metadata": {},
   "source": [
    "The matrix `X` is a rigorous enclosure of a primal strict feasible (near optimal) solution\n",
    "and can be restored from the vectorized quantity\n",
    "`obj.solutions.rigorous_upper_bound.x` as shown for the approximate solution.\n",
    "We omit the display of the interval matrix `X` for brevity."
   ]
  },
  {
   "cell_type": "markdown",
   "metadata": {},
   "source": [
    "Since all `Xl` are non-negative,\n",
    "strict feasibility for the primal problem is proved.\n",
    "Thus strong duality holds for this example."
   ]
  },
  {
   "cell_type": "code",
   "execution_count": 12,
   "metadata": {},
   "outputs": [],
   "source": [
    "clear all"
   ]
  },
  {
   "cell_type": "markdown",
   "metadata": {},
   "source": [
    "(sdp-example-2)=\n",
    "## Second SDP-Example\n",
    "\n",
    "Now we consider the following example (see {cite}`Jansson2007a`):"
   ]
  },
  {
   "cell_type": "markdown",
   "metadata": {},
   "source": [
    "$$\n",
    "\\begin{array}{ll}\n",
    "\\text{minimize} & \\langle C(\\delta), X \\rangle \\\\\n",
    "\\text{subject to}\n",
    "& \\langle A_{1}, X \\rangle = 1, \\\\\n",
    "& \\langle A_{2}, X \\rangle = \\varepsilon, \\\\\n",
    "& \\langle A_{3}, X \\rangle = 0, \\\\\n",
    "& \\langle A_{4}, X \\rangle = 0, \\\\\n",
    "& X \\in \\mathbb{S}^{3}_{+},\n",
    "\\end{array}\n",
    "$$"
   ]
  },
  {
   "cell_type": "markdown",
   "metadata": {},
   "source": [
    "with Lagrangian dual"
   ]
  },
  {
   "cell_type": "markdown",
   "metadata": {},
   "source": [
    "$$\n",
    "\\begin{array}{ll}\n",
    "\\text{maximize} & y_{1} + \\varepsilon y_{2} \\\\\n",
    "\\text{subject to}\n",
    "& Z(\\delta) := C(\\delta) - \\sum_{i = 1}^{4} A_{i} y_{i}\n",
    "  \\in \\mathbb{S}^{3}_{+}, \\\\\n",
    "& y \\in \\mathbb{R}^{4},\n",
    "\\end{array}\n",
    "$$"
   ]
  },
  {
   "cell_type": "markdown",
   "metadata": {},
   "source": [
    "where"
   ]
  },
  {
   "cell_type": "code",
   "execution_count": 13,
   "metadata": {},
   "outputs": [],
   "source": [
    "c = @(DELTA) ...\n",
    "    [  0;   1/2;    0;\n",
    "      1/2; DELTA;   0;\n",
    "       0;    0;   DELTA ];\n",
    "\n",
    "At = {};\n",
    "At{1} = [ 0; -1/2; 0;\n",
    "        -1/2;  0;  0;\n",
    "          0;   0;  0 ];\n",
    "At{2} = [ 1; 0; 0;\n",
    "          0; 0; 0;\n",
    "          0; 0; 0 ];\n",
    "At{3} = [ 0; 0; 1;\n",
    "          0; 0; 0;\n",
    "          1; 0; 0 ];\n",
    "At{4} = [ 0; 0; 0;\n",
    "          0; 0; 1;\n",
    "          0; 1; 0 ];\n",
    "At = [At{:}];\n",
    "\n",
    "b = @(EPSILON) [1; EPSILON; 0; 0];\n",
    "\n",
    "K.s = 3;"
   ]
  },
  {
   "cell_type": "markdown",
   "metadata": {},
   "source": [
    "The linear constraints of the primal problem form imply"
   ]
  },
  {
   "cell_type": "markdown",
   "metadata": {},
   "source": [
    "$$\n",
    "X(\\varepsilon) = \\begin{pmatrix}\n",
    "\\varepsilon & -1 & 0 \\\\ -1 & X_{22} & 0 \\\\ 0 & 0 & X_{33}\n",
    "\\end{pmatrix} \\in \\mathbb{S}^{3}_{+}\n",
    "$$"
   ]
  },
  {
   "cell_type": "markdown",
   "metadata": {},
   "source": [
    "iff $X_{22} \\geq 0$, $X_{33} \\geq 0$, and $\\varepsilon X_{22} - 1 \\geq 0$.\n",
    "The conic constraint of the dual form is"
   ]
  },
  {
   "cell_type": "markdown",
   "metadata": {},
   "source": [
    "$$\n",
    "Z(\\delta) = \\begin{pmatrix}\n",
    "-y_{2} & \\frac{1+y_{1}}{2} & -y_{3} \\\\\n",
    "\\frac{1+y_{1}}{2} & \\delta & -y_{4} \\\\\n",
    "-y_{3} & -y_{4} & \\delta \\end{pmatrix} \\in \\mathbb{S}^{3}_{+}.\n",
    "$$"
   ]
  },
  {
   "cell_type": "markdown",
   "metadata": {},
   "source": [
    "Hence, for\n",
    "\n",
    "- $\\varepsilon \\leq 0$: the problem is **primal infeasible** $\\hat{f}_{p} = +\\infty$.\n",
    "- $\\delta < 0$: the problem is **dual infeasible** $\\hat{f}_{d} = -\\infty$.\n",
    "- $\\varepsilon = \\delta = 0$: the problem is **ill-posed**\n",
    "  and there is a duality gap with $\\hat{f}_{p} = +\\infty$ and $\\hat{f}_{d} = -1$.\n",
    "- $\\varepsilon > 0$ and $\\delta > 0$: the problem is **feasible** with\n",
    "  $\\hat{f}_{p} = \\hat{f}_{d} = -1 + \\delta / \\varepsilon$."
   ]
  },
  {
   "cell_type": "markdown",
   "metadata": {},
   "source": [
    "To obtain a feasible solution,\n",
    "we set $\\delta = 10^{-2}$ and $\\varepsilon = 2\\delta$.\n",
    "Thus the primal and dual optimal objective function value is\n",
    "$\\hat{f}_{p} = \\hat{f}_{d} = -0.5$\n",
    "and one can start the computations with VSDP."
   ]
  },
  {
   "cell_type": "code",
   "execution_count": 14,
   "metadata": {},
   "outputs": [
    {
     "name": "stdout",
     "output_type": "stream",
     "text": [
      "ans =\n",
      "  VSDP conic programming problem with dimensions:\n",
      "\n",
      "    [n,m] = size(obj.At)\n",
      "     n    = 6 variables\n",
      "       m  = 4 constraints\n",
      "\n",
      "  and cones:\n",
      "\n",
      "     K.s = [ 3 ]\n",
      "\n",
      "  obj.solutions.approximate:\n",
      "\n",
      "      Solver 'sdpt3': Normal termination, 0.6 seconds.\n",
      "\n",
      "        c'*x = -4.999999947476755e-01\n",
      "        b'*y = -5.000000065021177e-01\n",
      "\n",
      "\n",
      "  obj.solutions.rigorous_lower_bound:\n",
      "\n",
      "      Normal termination, 0.0 seconds, 0 iterations.\n",
      "\n",
      "          fL = -5.000000065021177e-01\n",
      "\n",
      "  obj.solutions.rigorous_upper_bound:\n",
      "\n",
      "      Solver 'sdpt3': Normal termination, 0.7 seconds, 1 iterations.\n",
      "\n",
      "          fU = -4.999999933708725e-01\n",
      "\n",
      "\n",
      "\n",
      "  Detailed information:  'obj.info()'\n",
      "\n",
      "\n"
     ]
    }
   ],
   "source": [
    "DELTA   = 1e-4;\n",
    "EPSILON = 2 * DELTA;\n",
    "\n",
    "obj = vsdp (At, b(EPSILON), c(DELTA), K);\n",
    "obj.options.VERBOSE_OUTPUT = false;\n",
    "obj.solve('sdpt3') ...\n",
    "   .rigorous_lower_bound() ...\n",
    "   .rigorous_upper_bound()"
   ]
  },
  {
   "cell_type": "markdown",
   "metadata": {},
   "source": [
    "Everything works as expected.\n",
    "VSDP computes finite rigorous lower and upper bounds `fU` and `fL`.\n",
    "Weak duality,\n",
    "e.g. $\\hat{f}_{p} \\geq \\hat{f}_{d}$ and `fU >= fL`,\n",
    "holds for the approximate and rigorous solutions.\n",
    "The accuracy of rigorous the error bounds can again be measured by"
   ]
  },
  {
   "cell_type": "code",
   "execution_count": 15,
   "metadata": {},
   "outputs": [
    {
     "name": "stdout",
     "output_type": "stream",
     "text": [
      "mu =    1.3131e-08\n"
     ]
    }
   ],
   "source": [
    "format shorte\n",
    "fL = obj.solutions.rigorous_lower_bound.f_objective(1);\n",
    "fU = obj.solutions.rigorous_upper_bound.f_objective(2);\n",
    "mu = (fU - fL) / max (1, (abs (fU) + abs(fL)) / 2)"
   ]
  },
  {
   "cell_type": "markdown",
   "metadata": {},
   "source": [
    "Nevertheless,\n",
    "successful termination reported by an approximate solver gives no guarantee\n",
    "on the quality of the computed solution.\n",
    "Only `fU` and `fL` are reliable results,\n",
    "which are computed by the functions `vsdp.rigorous_lower_bound`\n",
    "and `vsdp.rigorous_upper_bound`,\n",
    "respectively."
   ]
  },
  {
   "cell_type": "markdown",
   "metadata": {},
   "source": [
    "To emphasize this,\n",
    "one can apply SeDuMi to the same problem:"
   ]
  },
  {
   "cell_type": "code",
   "execution_count": 16,
   "metadata": {},
   "outputs": [
    {
     "name": "stdout",
     "output_type": "stream",
     "text": [
      "ans =\n",
      "  VSDP conic programming problem with dimensions:\n",
      "\n",
      "    [n,m] = size(obj.At)\n",
      "     n    = 6 variables\n",
      "       m  = 4 constraints\n",
      "\n",
      "  and cones:\n",
      "\n",
      "     K.s = [ 3 ]\n",
      "\n",
      "  obj.solutions.approximate:\n",
      "\n",
      "      Solver 'sedumi': Normal termination, 0.5 seconds.\n",
      "\n",
      "        c'*x = -4.999990761443555e-01\n",
      "        b'*y = -4.999968121457571e-01\n",
      "\n",
      "\n",
      "  obj.solutions.rigorous_lower_bound:\n",
      "\n",
      "      Solver 'sedumi': Normal termination, 0.5 seconds, 1 iterations.\n",
      "\n",
      "          fL = -5.000035760394096e-01\n",
      "\n",
      "  obj.solutions.rigorous_upper_bound:\n",
      "\n",
      "      Solver 'sedumi': Normal termination, 0.5 seconds, 1 iterations.\n",
      "\n",
      "          fU = -4.999953448740588e-01\n",
      "\n",
      "\n",
      "\n",
      "  Detailed information:  'obj.info()'\n",
      "\n",
      "\n"
     ]
    }
   ],
   "source": [
    "obj.options.SOLVER = 'sedumi';\n",
    "obj.solve() ...\n",
    "   .rigorous_lower_bound () ...\n",
    "   .rigorous_upper_bound ()"
   ]
  },
  {
   "cell_type": "markdown",
   "metadata": {},
   "source": [
    "SeDuMi terminates without any warning, but the approximate results are poor.\n",
    "Since the approximate primal optimal objective function value is smaller than the dual one.\n",
    "Weak duality is not satisfied."
   ]
  },
  {
   "cell_type": "code",
   "execution_count": 17,
   "metadata": {},
   "outputs": [
    {
     "name": "stdout",
     "output_type": "stream",
     "text": [
      "ans = 0\n"
     ]
    }
   ],
   "source": [
    "f_obj = obj.solutions.approximate.f_objective;\n",
    "\n",
    "f_obj(1) >= f_obj(2)"
   ]
  },
  {
   "cell_type": "markdown",
   "metadata": {},
   "source": [
    "As already mentioned, weak duality holds for the rigorous error bounds by VSDP:"
   ]
  },
  {
   "cell_type": "code",
   "execution_count": 18,
   "metadata": {},
   "outputs": [
    {
     "name": "stdout",
     "output_type": "stream",
     "text": [
      "ans = 1\n"
     ]
    }
   ],
   "source": [
    "fL = obj.solutions.rigorous_lower_bound.f_objective(1);\n",
    "fU = obj.solutions.rigorous_upper_bound.f_objective(2);\n",
    "\n",
    "fU >= fL"
   ]
  },
  {
   "cell_type": "markdown",
   "metadata": {},
   "source": [
    "In general the quality of the rigorous error bounds strongly depends on the computed approximate solution\n",
    "and therefore on the used approximate conic solver.\n",
    "For example compare the accuracy of SeDuMi below with SDPT3 above:"
   ]
  },
  {
   "cell_type": "code",
   "execution_count": 19,
   "metadata": {},
   "outputs": [
    {
     "name": "stdout",
     "output_type": "stream",
     "text": [
      "acc_mu =    8.2312e-06\n"
     ]
    }
   ],
   "source": [
    "format short e\n",
    "acc_mu = (fU - fL) / max(1.0, (abs(fU) + abs(fL)) / 2)"
   ]
  }
 ],
 "metadata": {
  "kernelspec": {
   "display_name": "Octave",
   "language": "octave",
   "name": "octave"
  },
  "language_info": {
   "file_extension": ".m",
   "help_links": [
    {
     "text": "GNU Octave",
     "url": "https://www.gnu.org/software/octave/support.html"
    },
    {
     "text": "Octave Kernel",
     "url": "https://github.com/Calysto/octave_kernel"
    },
    {
     "text": "MetaKernel Magics",
     "url": "https://metakernel.readthedocs.io/en/latest/source/README.html"
    }
   ],
   "mimetype": "text/x-octave",
   "name": "octave",
   "version": "6.4.0"
  }
 },
 "nbformat": 4,
 "nbformat_minor": 4
}
