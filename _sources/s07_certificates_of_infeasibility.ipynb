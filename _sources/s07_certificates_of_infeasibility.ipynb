{
 "cells": [
  {
   "cell_type": "code",
   "execution_count": null,
   "metadata": {
    "tags": [
     "hide-input",
     "hide-output"
    ]
   },
   "outputs": [],
   "source": [
    "run (fullfile ('..', 'install_vsdp.m'))"
   ]
  },
  {
   "cell_type": "markdown",
   "metadata": {},
   "source": [
    "# Rigorous Certificates of Infeasibility\n",
    "\n",
    "The functions `vsdp.rigorous_lower_bound` and `vsdp.rigorous_upper_bound`\n",
    "prove strict feasibility and compute rigorous error bounds.\n",
    "For the verification of infeasibility the functions\n",
    "`vsdp.check_primal_infeasible` and `vsdp.check_dual_infeasible` can be applied.\n",
    "In this section we show how to use these functions."
   ]
  },
  {
   "cell_type": "markdown",
   "metadata": {},
   "source": [
    "(theorems-of-alternatives)=\n",
    "## Theorems of alternatives\n",
    "\n",
    "Both functions are based upon a theorem of alternatives {cite}`Jansson2007`.\n",
    "Such a theorem states that for two systems of equations or inequalities,\n",
    "one or the other system has a solution,\n",
    "but not both.\n",
    "A solution of one of the systems is called a certificate of infeasibility for the other\n",
    "which has no solution."
   ]
  },
  {
   "cell_type": "markdown",
   "metadata": {},
   "source": [
    "For a conic program those two theorems of alternatives are as follows:\n",
    "\n",
    "> **Primal Infeasibility Theorem**\n",
    ">\n",
    "> Suppose that some $\\tilde{y}$ satisfies\n",
    "> $-A^{T}y \\in \\mathcal{K}^{*}$ and $b^{T}\\tilde{y} > 0$.\n",
    "> Then the system of primal constraints\n",
    "> $Ax = b$ with $x \\in \\mathcal{K}$ has no solution.\n",
    "\n",
    "> **Dual Infeasibility Theorem**\n",
    ">\n",
    "> Suppose that some $\\tilde{x} \\in \\mathcal{K}$ satisfies\n",
    "> $A\\tilde{x} = 0$ and $c^{T}\\tilde{x} < 0$.\n",
    "> Then the system of dual constraints\n",
    "> $c - A^{T}y \\in \\mathcal{K}^{*}$ has no solution.\n",
    "\n",
    "For a proof, see {cite}`Jansson2007`.\n",
    "The first theorem is the foundation of `vsdp.check_primal_infeasible`\n",
    "and the second of `vsdp.check_dual_infeasible`."
   ]
  },
  {
   "cell_type": "markdown",
   "metadata": {},
   "source": [
    "## Example: primal infeasible SOCP\n",
    "\n",
    "We consider a slightly modified second-order cone problem from\n",
    "{cite}`Ben-Tal2001` (Example 2.4.2)"
   ]
  },
  {
   "cell_type": "markdown",
   "metadata": {},
   "source": [
    "$$\n",
    "\\begin{array}{ll}\n",
    "\\text{minimize} & \\begin{pmatrix} 0 & 0 & 0 \\end{pmatrix} x, \\\\\n",
    "\\text{subject to}\n",
    "& \\begin{pmatrix} 1 & 0 & 0.5 \\\\ 0 & 1 & 0 \\end{pmatrix}\n",
    "  x = \\begin{pmatrix} 0 \\\\ 1 \\end{pmatrix}, \\\\\n",
    "& x \\in \\mathbb{L}^{3},\n",
    "\\end{array}\n",
    "$$"
   ]
  },
  {
   "cell_type": "markdown",
   "metadata": {},
   "source": [
    "with its dual problem"
   ]
  },
  {
   "cell_type": "markdown",
   "metadata": {},
   "source": [
    "$$\n",
    "\\begin{array}{ll}\n",
    "\\text{maximize} & \\begin{pmatrix} 0 & 1 \\end{pmatrix} y, \\\\\n",
    "\\text{subject to}\n",
    "& \\begin{pmatrix} 0 \\\\ 0 \\\\ 0 \\end{pmatrix} -\n",
    "  \\begin{pmatrix} 1 & 0 \\\\ 0 & 1 \\\\ 0.5 & 0 \\end{pmatrix}\n",
    "  y \\in \\mathbb{L}^{3}.\n",
    "\\end{array}\n",
    "$$"
   ]
  },
  {
   "cell_type": "markdown",
   "metadata": {},
   "source": [
    "The primal problem is infeasible, while the dual problem is unbounded.\n",
    "One can easily prove this fact by assuming that there exists a primal feasible point $x$.\n",
    "This point has to satisfy $x_{3} = -2x_{1}$\n",
    "and therefore $x_{1} \\geq \\sqrt{x_{2}^{2} + (-2x_{1})^{2}}$.\n",
    "From the second equality constraint we get $x_{2} = 1$\n",
    "yielding the contradiction $x_{1} \\geq \\sqrt{1 + 4x_{1}^{2}}$.\n",
    "Thus, the primal problem has no feasible solution."
   ]
  },
  {
   "cell_type": "markdown",
   "metadata": {},
   "source": [
    "The set of dual feasible points is given by $y_{1} \\leq 0$ and $y_{2} = -\\frac{\\sqrt{3}}{2}y_{1}$.\n",
    "Thus the maximization of the dual problem yields $\\hat{f}_{p} = +\\infty$ for\n",
    "$y = \\alpha\\begin{pmatrix} -1 & \\sqrt{3}/2 \\end{pmatrix}^{T}$ with $\\alpha \\to +\\infty$."
   ]
  },
  {
   "cell_type": "markdown",
   "metadata": {},
   "source": [
    "To show primal infeasibility using VSDP, one first has to specify the input data:"
   ]
  },
  {
   "cell_type": "code",
   "execution_count": 2,
   "metadata": {},
   "outputs": [],
   "source": [
    "A = [1, 0, 0.5;\n",
    "     0, 1, 0];\n",
    "b = [0; 1];\n",
    "c = [0; 0; 0];\n",
    "K.q = 3;"
   ]
  },
  {
   "cell_type": "markdown",
   "metadata": {},
   "source": [
    "Using the approximate solver SDPT3,\n",
    "we obtain a rigorous certificate of infeasibility with the routine\n",
    "`vsdp.check_primal_infeasible`:"
   ]
  },
  {
   "cell_type": "code",
   "execution_count": 3,
   "metadata": {},
   "outputs": [
    {
     "name": "stdout",
     "output_type": "stream",
     "text": []
    },
    {
     "name": "stdout",
     "output_type": "stream",
     "text": [
      "\n",
      " num. of constraints =  2\n",
      " dim. of socp   var  =  3,   num. of socp blk  =  1\n",
      "*******************************************************************\n",
      "   SDPT3: Infeasible path-following algorithms\n",
      "*******************************************************************\n",
      " version  predcorr  gam  expon  scale_data\n",
      "    NT      1      0.000   1        0    \n",
      "it pstep dstep pinfeas dinfeas  gap      prim-obj      dual-obj    cputime\n",
      "-------------------------------------------------------------------\n",
      " 0|0.000|0.000|1.0e+00|2.1e+00|3.7e+00| 0.000000e+00  0.000000e+00| 0:0:00| chol  1  1 \n",
      " 1|0.640|1.000|3.6e-01|1.0e-01|3.0e-01| 0.000000e+00  1.979648e+00| 0:0:00| chol  1  1 \n",
      " 2|0.066|0.638|3.4e-01|4.3e-02|2.4e+00| 0.000000e+00  2.346369e+02| 0:0:00| chol  1  1 \n",
      " 3|0.004|1.000|3.4e-01|1.0e-03|2.9e+04| 0.000000e+00  2.170266e+06| 0:0:00| chol  2  2 \n",
      " 4|0.005|1.000|3.4e-01|9.9e-05|2.1e+08| 0.000000e+00  1.165746e+10| 0:0:00| chol  2  2 \n",
      " 5|0.004|1.000|3.4e-01|0.0e+00|5.3e+11| 0.000000e+00  3.618635e+13| 0:0:00| chol  1  1 \n",
      " 6|0.002|1.000|3.4e-01|0.0e+00|2.2e+15| 0.000000e+00  1.736991e+17| 0:0:00|\n",
      "  sqlp stop: primal or dual is diverging, 9.1e+16\n",
      "-------------------------------------------------------------------\n",
      " number of iterations   =  6\n",
      " Total CPU time (secs)  = 0.22  \n",
      " CPU time per iteration = 0.04  \n",
      " termination code       =  3\n",
      " DIMACS: 3.4e-01  0.0e+00  0.0e+00  0.0e+00  -1.0e+00  1.3e-02\n",
      "-------------------------------------------------------------------\n"
     ]
    }
   ],
   "source": [
    "obj = vsdp(A,b,c,K).solve ('sdpt3') ...\n",
    "                   .check_primal_infeasible () ...\n",
    "                   .check_dual_infeasible ();"
   ]
  },
  {
   "cell_type": "markdown",
   "metadata": {},
   "source": [
    "The output of the solver is quite verbose and can be suppressed by\n",
    "setting `obj.options.VERBOSE_OUTPUT` to `false`.\n",
    "Important is the message of the SDPT3 solver:\n",
    "\n",
    "> sqlp stop: primal or dual is diverging\n",
    "\n",
    "which supports the theoretical consideration about the unboundedness of the dual problem.\n",
    "As expected,\n",
    "`vsdp.check_primal_infeasible` proves the infeasiblity of the primal problem"
   ]
  },
  {
   "cell_type": "code",
   "execution_count": 4,
   "metadata": {},
   "outputs": [
    {
     "name": "stdout",
     "output_type": "stream",
     "text": [
      "ans =\n",
      "      Normal termination, 0.0 seconds.\n",
      "\n",
      "      A certificate of primal infeasibility 'y' was found.\n",
      "      The conic problem is primal infeasible.\n",
      "\n",
      "\n"
     ]
    }
   ],
   "source": [
    "obj.solutions.certificate_primal_infeasibility"
   ]
  },
  {
   "cell_type": "markdown",
   "metadata": {},
   "source": [
    "while dual infeasibility cannot be shown:"
   ]
  },
  {
   "cell_type": "code",
   "execution_count": 5,
   "metadata": {},
   "outputs": [
    {
     "name": "stdout",
     "output_type": "stream",
     "text": [
      "ans =\n",
      "      Normal termination, 0.0 seconds.\n",
      "\n",
      "      NO certificate of dual infeasibility was found.\n",
      "\n",
      "\n"
     ]
    }
   ],
   "source": [
    "obj.solutions.certificate_dual_infeasibility"
   ]
  },
  {
   "cell_type": "markdown",
   "metadata": {},
   "source": [
    "The interval quantity `y`, the rigorous certificate of primal infeasiblity,\n",
    "matches the theoretical considerations.\n",
    "It diverges to infinite values:"
   ]
  },
  {
   "cell_type": "code",
   "execution_count": 6,
   "metadata": {},
   "outputs": [
    {
     "name": "stdout",
     "output_type": "stream",
     "text": [
      "intval y = \n",
      "  1.0e+017 *\n",
      "   -2.0060\n",
      "    1.7369\n"
     ]
    }
   ],
   "source": [
    "y = obj.solutions.certificate_primal_infeasibility.y"
   ]
  },
  {
   "cell_type": "markdown",
   "metadata": {},
   "source": [
    "and the first entry of `y` multiplied by $-\\sqrt{3}/2$ is almost the second entry of `y`:"
   ]
  },
  {
   "cell_type": "code",
   "execution_count": 7,
   "metadata": {},
   "outputs": [
    {
     "name": "stdout",
     "output_type": "stream",
     "text": [
      "intval ans = \n",
      "  1.0e+017 *\n",
      "    1.7372\n"
     ]
    }
   ],
   "source": [
    "y(1) * -sqrt(3)/2"
   ]
  },
  {
   "cell_type": "markdown",
   "metadata": {},
   "source": [
    "The following check is already done by `vsdp.check_primal_infeasible`,\n",
    "but for illustration we evaluate the conditions to prove primal infeasibility\n",
    "from the first theorem of alternatives $-A^{T}y \\in \\mathcal{K}^{*}$ and $b^{T}\\tilde{y} > 0$:"
   ]
  },
  {
   "cell_type": "code",
   "execution_count": 8,
   "metadata": {},
   "outputs": [
    {
     "name": "stdout",
     "output_type": "stream",
     "text": [
      "ans = 1\n"
     ]
    }
   ],
   "source": [
    "z = -A' * y;\n",
    "z(1) >= norm (z(2:end))  % Check z to be in the Lorentz-cone."
   ]
  },
  {
   "cell_type": "code",
   "execution_count": 9,
   "metadata": {},
   "outputs": [
    {
     "name": "stdout",
     "output_type": "stream",
     "text": [
      "ans = 1\n"
     ]
    }
   ],
   "source": [
    "b' * y > 0"
   ]
  },
  {
   "cell_type": "markdown",
   "metadata": {},
   "source": [
    "Note that the rigorous certificate of infeasiblity is not necessarily unique.\n",
    "Thus VSDP might proof a different `y`,\n",
    "when used with another approximate solver.\n",
    "Compare for example the certificate computed by SeDuMi:"
   ]
  },
  {
   "cell_type": "code",
   "execution_count": 10,
   "metadata": {},
   "outputs": [
    {
     "name": "stdout",
     "output_type": "stream",
     "text": [
      "intval y = \n",
      "   -2.3924\n",
      "    1.0000\n"
     ]
    }
   ],
   "source": [
    "obj = vsdp(A,b,c,K);\n",
    "obj.options.VERBOSE_OUTPUT = false;\n",
    "obj.solve ('sedumi') ...\n",
    "   .check_primal_infeasible ();\n",
    "y = obj.solutions.certificate_primal_infeasibility.y"
   ]
  },
  {
   "cell_type": "code",
   "execution_count": 11,
   "metadata": {},
   "outputs": [
    {
     "name": "stdout",
     "output_type": "stream",
     "text": [
      "ans = 1\n"
     ]
    }
   ],
   "source": [
    "z = -A' * y;\n",
    "z(1) >= norm (z(2:end))  % Check z to be in the Lorentz-cone."
   ]
  },
  {
   "cell_type": "code",
   "execution_count": 12,
   "metadata": {},
   "outputs": [
    {
     "name": "stdout",
     "output_type": "stream",
     "text": [
      "ans = 1\n"
     ]
    }
   ],
   "source": [
    "b' * y > 0"
   ]
  },
  {
   "cell_type": "markdown",
   "metadata": {},
   "source": [
    "which is also perfectly valid."
   ]
  },
  {
   "cell_type": "markdown",
   "metadata": {},
   "source": [
    "## Example: primal infeasible SDP\n",
    "\n",
    "In the following we consider another conic optimization problem from\n",
    "{cite}`Jansson2006`.\n",
    "The two SDP constraints of that problem\n",
    "depend on two arbitrary fixed chosen parameters\n",
    "$\\delta = 0.1$ and $\\varepsilon = -0.01$."
   ]
  },
  {
   "cell_type": "markdown",
   "metadata": {},
   "source": [
    "\\begin{equation}\n",
    "\\begin{array}{ll}\n",
    "\\text{minimize} &\n",
    "\\left\\langle \\begin{pmatrix} 0 & 0 \\\\ 0 & 0 \\end{pmatrix}, X \\right\\rangle \\\\\n",
    "\\text{subject to}\n",
    "& \\left\\langle \\begin{pmatrix} 1 & 0 \\\\ 0 & 0 \\end{pmatrix}, X \\right\\rangle\n",
    "= \\varepsilon, \\\\\n",
    "& \\left\\langle \\begin{pmatrix} 0 & 1 \\\\ 1 & \\delta \\end{pmatrix},\n",
    "X \\right\\rangle = 1, \\\\\n",
    "& X \\in \\mathbb{S}_{+}^{2}.\n",
    "\\end{array}\n",
    "\\end{equation}"
   ]
  },
  {
   "cell_type": "markdown",
   "metadata": {},
   "source": [
    "The problem data is entered in the VSDP 2006 format:"
   ]
  },
  {
   "cell_type": "code",
   "execution_count": 13,
   "metadata": {},
   "outputs": [],
   "source": [
    "clear all;\n",
    "EPSILON = -0.01;\n",
    "DELTA = 0.1;\n",
    "blk(1,:) = {'s'; 2};\n",
    "C{1,1} = [0 0; 0 0];\n",
    "A{1,1} = [1 0; 0 0];\n",
    "A{2,1} = [0 1; 1 DELTA];\n",
    "b = [EPSILON; 1];\n",
    "\n",
    "obj = vsdp (blk, A, C, b);\n",
    "obj.options.VERBOSE_OUTPUT = false;"
   ]
  },
  {
   "cell_type": "markdown",
   "metadata": {},
   "source": [
    "The first constraint yields $x_1 = \\varepsilon < 0$.\n",
    "This is a contradiction to $X \\in \\mathbb{S}_{+}^{2}$,\n",
    "thus the problem is primal infeasible.\n",
    "The dual problem is"
   ]
  },
  {
   "cell_type": "markdown",
   "metadata": {},
   "source": [
    "$$\n",
    "\\begin{array}{ll}\n",
    "\\text{maximize} & \\varepsilon y_{1} + y_{2} \\\\\n",
    "\\text{subject to}\n",
    "& \\begin{pmatrix} 0 & 0 \\\\ 0 & 0 \\end{pmatrix}\n",
    "-y_{1} \\begin{pmatrix} 1 & 0 \\\\ 0 & 0 \\end{pmatrix}\n",
    "-y_{2} \\begin{pmatrix} 0 & 1 \\\\ 1 & \\delta \\end{pmatrix}\n",
    "= \\begin{pmatrix} -y_{1} & -y_{2} \\\\ -y_{2} & -\\delta y_{2} \\end{pmatrix}\n",
    "\\in \\mathbb{S}_{+}^{2}, \\\\\n",
    "& y_{1}, y_{2} \\in \\mathbb{R}.\n",
    "\\end{array}\n",
    "$$"
   ]
  },
  {
   "cell_type": "markdown",
   "metadata": {},
   "source": [
    "For dual feasibility\n",
    "the first principal minor of the dual constraint\n",
    "must fulfill $-y_{1} \\geq 0$\n",
    "and the entire matrix $y_{2}(\\delta y_{1} - y_{2}) \\geq 0$.\n",
    "The objective function goes to $+\\infty$\n",
    "for $y_{1} \\to -\\infty$ and $y_{2} = 0$.\n",
    "Thus the dual problem is unbounded\n",
    "and each point $\\hat{y} = (y_{1}, 0)$ with $y_{1} \\leq 0$\n",
    "is a certificate of primal infeasibility."
   ]
  },
  {
   "cell_type": "markdown",
   "metadata": {},
   "source": [
    "To compute a rigorous certificate of primal infeasiblity using VSDP,\n",
    "one can make use of the `vsdp.check_primal_infeasible`-function:"
   ]
  },
  {
   "cell_type": "code",
   "execution_count": 14,
   "metadata": {},
   "outputs": [
    {
     "name": "stdout",
     "output_type": "stream",
     "text": [
      "warning: rigorous_upper_bound: Conic solver could not find a solution for perturbed problem\n",
      "warning: called from\n",
      "    rigorous_upper_bound>rigorous_upper_bound_infinite_bounds at line 191 column 5\n",
      "    rigorous_upper_bound at line 58 column 7\n",
      "obj =\n",
      "  VSDP conic programming problem with dimensions:\n",
      "\n",
      "    [n,m] = size(obj.At)\n",
      "     n    = 3 variables\n",
      "       m  = 2 constraints\n",
      "\n",
      "  and cones:\n",
      "\n",
      "     K.s = [ 2 ]\n",
      "\n",
      "  obj.solutions.approximate:\n",
      "\n",
      "      Solver 'sdpt3': Primal infeasible, 0.4 seconds.\n",
      "\n",
      "        c'*x = 0.000000000000000e+00\n",
      "        b'*y = 1.000000000000000e+00\n",
      "\n",
      "\n",
      "  Compute a rigorous lower bound:\n",
      "\n",
      "    'obj = obj.rigorous_lower_bound()'\n",
      "  obj.solutions.rigorous_upper_bound:\n",
      "\n",
      "      Solver 'sdpt3': Unknown, 0.4 seconds, 1 iterations.\n",
      "\n",
      "          fU = Inf\n",
      "\n",
      "\n",
      "  obj.solutions.certificate_primal_infeasibility:\n",
      "\n",
      "      Normal termination, 0.0 seconds.\n",
      "\n",
      "      A certificate of primal infeasibility 'y' was found.\n",
      "      The conic problem is primal infeasible.\n",
      "\n",
      "\n",
      "  obj.solutions.certificate_dual_infeasibility:\n",
      "\n",
      "      Normal termination, 0.0 seconds.\n",
      "\n",
      "      NO certificate of dual infeasibility was found.\n",
      "\n",
      "\n",
      "\n",
      "  Detailed information:  'obj.info()'\n",
      "\n",
      "\n"
     ]
    }
   ],
   "source": [
    "obj = obj.solve ('sdpt3') ...\n",
    "         .rigorous_upper_bound () ...\n",
    "         .check_primal_infeasible () ...\n",
    "         .check_dual_infeasible ()"
   ]
  },
  {
   "cell_type": "markdown",
   "metadata": {},
   "source": [
    "While computing an approximate solution to this problem,\n",
    "SDPT3 already detects potential primal infeasibility.\n",
    "Trying to compute a rigorous upper error bound by `vsdp.rigorous_upper_bound` fails.\n",
    "This emphasizes the warning at the beginning of the output\n",
    "and the upper error bound is set to infinity (`fU = Inf`)."
   ]
  },
  {
   "cell_type": "markdown",
   "metadata": {},
   "source": [
    "Using the approximate dual solution"
   ]
  },
  {
   "cell_type": "code",
   "execution_count": 15,
   "metadata": {},
   "outputs": [
    {
     "name": "stdout",
     "output_type": "stream",
     "text": [
      "yt =\n",
      "  -100.007983163\n",
      "    -0.000079832\n",
      "\n"
     ]
    }
   ],
   "source": [
    "yt = obj.solutions.approximate.y"
   ]
  },
  {
   "cell_type": "markdown",
   "metadata": {},
   "source": [
    "the VSDP-function `vsdp.check_primal_infeasible` tries to prove\n",
    "a rigorous certificate of primal infeasibility.\n",
    "This is done by a rigorous evaluation of the theorem of alternatives\n",
    "using interval arithmetic:"
   ]
  },
  {
   "cell_type": "code",
   "execution_count": 16,
   "metadata": {},
   "outputs": [
    {
     "name": "stdout",
     "output_type": "stream",
     "text": [
      "intval yy = \n",
      "[ -100.0080, -100.0079] \n",
      "[   -0.0001,   -0.0000] \n"
     ]
    }
   ],
   "source": [
    "format infsup\n",
    "yy = obj.solutions.certificate_primal_infeasibility.y"
   ]
  },
  {
   "cell_type": "markdown",
   "metadata": {},
   "source": [
    "According to the Primal Infeasibility Theorem\n",
    "(cf. {ref}`theorems-of-alternatives`)\n",
    "$\\langle \\tilde{y}, b \\rangle$ is positive:"
   ]
  },
  {
   "cell_type": "code",
   "execution_count": 17,
   "metadata": {},
   "outputs": [
    {
     "name": "stdout",
     "output_type": "stream",
     "text": [
      "intval ans = \n",
      "[    1.0000,    1.0000] \n"
     ]
    }
   ],
   "source": [
    "obj.b' * yy"
   ]
  },
  {
   "cell_type": "markdown",
   "metadata": {},
   "source": [
    "and $-A^{*}\\tilde{y}$ lies in the cone\n",
    "of symmetric positive semidefinite matrices $\\mathbb{S}_{+}^{2}$:"
   ]
  },
  {
   "cell_type": "code",
   "execution_count": 18,
   "metadata": {},
   "outputs": [
    {
     "name": "stdout",
     "output_type": "stream",
     "text": [
      "intval ans = \n",
      "[  100.0079,  100.0080] [    0.0000,    0.0001] \n",
      "[    0.0000,    0.0001] [    0.0000,    0.0001] \n"
     ]
    }
   ],
   "source": [
    "-yy(1) * A{1,1} - yy(2) * A{2,1}"
   ]
  },
  {
   "cell_type": "markdown",
   "metadata": {},
   "source": [
    "It was shown,\n",
    "that the problem is unbounded,\n",
    "but not infeasible.\n",
    "Therefore it is clear,\n",
    "that VSDP cannot prove a rigorous certificate of dual infeasiblity\n",
    "by `vsdp.check_dual_infeasible`:"
   ]
  },
  {
   "cell_type": "code",
   "execution_count": 19,
   "metadata": {},
   "outputs": [
    {
     "name": "stdout",
     "output_type": "stream",
     "text": [
      "ans =\n",
      "      Normal termination, 0.0 seconds.\n",
      "\n",
      "      NO certificate of dual infeasibility was found.\n",
      "\n",
      "\n"
     ]
    }
   ],
   "source": [
    "obj.solutions.certificate_dual_infeasibility"
   ]
  }
 ],
 "metadata": {
  "kernelspec": {
   "display_name": "Octave",
   "language": "octave",
   "name": "octave"
  },
  "language_info": {
   "file_extension": ".m",
   "help_links": [
    {
     "text": "GNU Octave",
     "url": "https://www.gnu.org/software/octave/support.html"
    },
    {
     "text": "Octave Kernel",
     "url": "https://github.com/Calysto/octave_kernel"
    },
    {
     "text": "MetaKernel Magics",
     "url": "https://metakernel.readthedocs.io/en/latest/source/README.html"
    }
   ],
   "mimetype": "text/x-octave",
   "name": "octave",
   "version": "6.4.0"
  }
 },
 "nbformat": 4,
 "nbformat_minor": 4
}
